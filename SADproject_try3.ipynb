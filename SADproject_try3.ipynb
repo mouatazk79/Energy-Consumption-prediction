{
 "cells": [
  {
   "cell_type": "markdown",
   "id": "8a911a38",
   "metadata": {},
   "source": [
    "# UNIVERSITY DATA ANALYSIS PROJECT\n",
    "This notebook is an end to end project about Hourly Energy Consumption"
   ]
  },
  {
   "cell_type": "code",
   "execution_count": 1,
   "id": "40848a0c",
   "metadata": {},
   "outputs": [],
   "source": [
    "import numpy as np\n",
    "import pandas as pd\n",
    "import matplotlib.pyplot as plt\n",
    "import sklearn \n",
    "import seaborn as sb\n",
    "from sklearn.linear_model  import LinearRegression\n",
    "from sklearn.ensemble      import RandomForestRegressor\n",
    "import glob\n",
    "%matplotlib inline "
   ]
  },
  {
   "cell_type": "markdown",
   "id": "2bcd3212",
   "metadata": {},
   "source": [
    "# DATA\n",
    "this data is a 10 years of hourly energy consumption data from PJM in Megawatts wich we can find it in kaggle in this link https://www.kaggle.com/datasets/robikscube/hourly-energy-consumption# "
   ]
  },
  {
   "cell_type": "code",
   "execution_count": 2,
   "id": "fdfd1c62",
   "metadata": {},
   "outputs": [
    {
     "data": {
      "text/plain": [
       "['data\\\\AEP_hourly.csv',\n",
       " 'data\\\\COMED_hourly.csv',\n",
       " 'data\\\\DAYTON_hourly.csv',\n",
       " 'data\\\\DEOK_hourly.csv',\n",
       " 'data\\\\DOM_hourly.csv',\n",
       " 'data\\\\DUQ_hourly.csv',\n",
       " 'data\\\\EKPC_hourly.csv',\n",
       " 'data\\\\FE_hourly.csv',\n",
       " 'data\\\\NI_hourly.csv',\n",
       " 'data\\\\PJME_hourly.csv',\n",
       " 'data\\\\PJMW_hourly.csv',\n",
       " 'data\\\\PJM_Load_hourly.csv']"
      ]
     },
     "execution_count": 2,
     "metadata": {},
     "output_type": "execute_result"
    }
   ],
   "source": [
    "glob.glob(\"data/*hourly.csv\")"
   ]
  },
  {
   "cell_type": "code",
   "execution_count": 3,
   "id": "c54e348f",
   "metadata": {},
   "outputs": [],
   "source": [
    "aep = pd.read_csv( 'data/AEP_hourly.csv')\n",
    "comed = pd.read_csv( 'data/COMED_hourly.csv')\n",
    "dayton = pd.read_csv( 'data/DAYTON_hourly.csv')\n",
    "deok = pd.read_csv('data/DEOK_hourly.csv')\n",
    "dom = pd.read_csv( 'data/DOM_hourly.csv')\n",
    "duq = pd.read_csv( 'data/DUQ_hourly.csv')\n",
    "ekpc = pd.read_csv( 'data/EKPC_hourly.csv')\n",
    "fe = pd.read_csv( 'data/FE_hourly.csv')\n",
    "ni = pd.read_csv( 'data/NI_hourly.csv')\n",
    "pjm = pd.read_csv( 'data/PJM_Load_hourly.csv')\n",
    "pjme = pd.read_csv( 'data/PJME_hourly.csv')\n",
    "pjmw = pd.read_csv( 'data/PJMW_hourly.csv')"
   ]
  },
  {
   "cell_type": "code",
   "execution_count": 4,
   "id": "8d165dfb",
   "metadata": {},
   "outputs": [],
   "source": [
    "aep['electric_company'] = 'AEP'\n",
    "comed['electric_company'] = 'COMED'\n",
    "dayton['electric_company'] = 'DAYTON'\n",
    "deok['electric_company'] = 'DEOK'\n",
    "dom['electric_company'] = 'DOM'\n",
    "duq['electric_company'] = 'DUQ'\n",
    "ekpc['electric_company'] = 'EKPC'\n",
    "fe['electric_company'] = 'FE'\n",
    "ni['electric_company'] = 'NI'\n",
    "pjm['electric_company'] = 'PJM'\n",
    "pjme['electric_company'] = 'PJME'\n",
    "pjmw['electric_company'] = 'PJMW'"
   ]
  },
  {
   "cell_type": "code",
   "execution_count": 5,
   "id": "9cf78822",
   "metadata": {},
   "outputs": [],
   "source": [
    "aep = aep.rename( columns={'AEP_MW': 'energyconsumption'} )\n",
    "comed = comed.rename( columns={'COMED_MW': 'energyconsumption'} )\n",
    "dayton = dayton.rename( columns={'DAYTON_MW': 'energyconsumption'} )\n",
    "deok = deok.rename( columns={'DEOK_MW': 'energyconsumption'} )\n",
    "dom = dom.rename( columns={'DOM_MW': 'energyconsumption'} )\n",
    "duq = duq.rename( columns={'DUQ_MW': 'energyconsumption'} )\n",
    "ekpc = ekpc.rename( columns={'EKPC_MW': 'energyconsumption'} )\n",
    "fe = fe.rename( columns={'FE_MW': 'energyconsumption'} )\n",
    "ni = ni.rename( columns={'NI_MW': 'energyconsumption'} )\n",
    "pjm = pjm.rename( columns={'PJM_Load_MW': 'energyconsumption'} )\n",
    "pjme = pjme.rename( columns={'PJME_MW': 'energyconsumption'} )\n",
    "pjmw = pjmw.rename( columns={'PJMW_MW': 'energyconsumption'} )"
   ]
  },
  {
   "cell_type": "code",
   "execution_count": 6,
   "id": "6f14e328",
   "metadata": {},
   "outputs": [],
   "source": [
    "total= pd.concat([aep,comed,dayton,deok,dom,duq,ekpc,fe,ni,pjm,pjme,pjmw])\n"
   ]
  },
  {
   "cell_type": "code",
   "execution_count": 7,
   "id": "b88a729b",
   "metadata": {},
   "outputs": [
    {
     "data": {
      "text/plain": [
       "(1090167, 3)"
      ]
     },
     "execution_count": 7,
     "metadata": {},
     "output_type": "execute_result"
    }
   ],
   "source": [
    "total.shape\n"
   ]
  },
  {
   "cell_type": "code",
   "execution_count": 8,
   "id": "db0c2268",
   "metadata": {},
   "outputs": [
    {
     "data": {
      "text/html": [
       "<div>\n",
       "<style scoped>\n",
       "    .dataframe tbody tr th:only-of-type {\n",
       "        vertical-align: middle;\n",
       "    }\n",
       "\n",
       "    .dataframe tbody tr th {\n",
       "        vertical-align: top;\n",
       "    }\n",
       "\n",
       "    .dataframe thead th {\n",
       "        text-align: right;\n",
       "    }\n",
       "</style>\n",
       "<table border=\"1\" class=\"dataframe\">\n",
       "  <thead>\n",
       "    <tr style=\"text-align: right;\">\n",
       "      <th></th>\n",
       "      <th>Datetime</th>\n",
       "      <th>energyconsumption</th>\n",
       "      <th>electric_company</th>\n",
       "    </tr>\n",
       "  </thead>\n",
       "  <tbody>\n",
       "    <tr>\n",
       "      <th>0</th>\n",
       "      <td>2004-12-31 01:00:00</td>\n",
       "      <td>13478.0</td>\n",
       "      <td>AEP</td>\n",
       "    </tr>\n",
       "    <tr>\n",
       "      <th>1</th>\n",
       "      <td>2004-12-31 02:00:00</td>\n",
       "      <td>12865.0</td>\n",
       "      <td>AEP</td>\n",
       "    </tr>\n",
       "    <tr>\n",
       "      <th>2</th>\n",
       "      <td>2004-12-31 03:00:00</td>\n",
       "      <td>12577.0</td>\n",
       "      <td>AEP</td>\n",
       "    </tr>\n",
       "    <tr>\n",
       "      <th>3</th>\n",
       "      <td>2004-12-31 04:00:00</td>\n",
       "      <td>12517.0</td>\n",
       "      <td>AEP</td>\n",
       "    </tr>\n",
       "    <tr>\n",
       "      <th>4</th>\n",
       "      <td>2004-12-31 05:00:00</td>\n",
       "      <td>12670.0</td>\n",
       "      <td>AEP</td>\n",
       "    </tr>\n",
       "    <tr>\n",
       "      <th>...</th>\n",
       "      <td>...</td>\n",
       "      <td>...</td>\n",
       "      <td>...</td>\n",
       "    </tr>\n",
       "    <tr>\n",
       "      <th>143201</th>\n",
       "      <td>2018-01-01 20:00:00</td>\n",
       "      <td>8401.0</td>\n",
       "      <td>PJMW</td>\n",
       "    </tr>\n",
       "    <tr>\n",
       "      <th>143202</th>\n",
       "      <td>2018-01-01 21:00:00</td>\n",
       "      <td>8373.0</td>\n",
       "      <td>PJMW</td>\n",
       "    </tr>\n",
       "    <tr>\n",
       "      <th>143203</th>\n",
       "      <td>2018-01-01 22:00:00</td>\n",
       "      <td>8238.0</td>\n",
       "      <td>PJMW</td>\n",
       "    </tr>\n",
       "    <tr>\n",
       "      <th>143204</th>\n",
       "      <td>2018-01-01 23:00:00</td>\n",
       "      <td>7958.0</td>\n",
       "      <td>PJMW</td>\n",
       "    </tr>\n",
       "    <tr>\n",
       "      <th>143205</th>\n",
       "      <td>2018-01-02 00:00:00</td>\n",
       "      <td>7691.0</td>\n",
       "      <td>PJMW</td>\n",
       "    </tr>\n",
       "  </tbody>\n",
       "</table>\n",
       "<p>1090167 rows × 3 columns</p>\n",
       "</div>"
      ],
      "text/plain": [
       "                   Datetime  energyconsumption electric_company\n",
       "0       2004-12-31 01:00:00            13478.0              AEP\n",
       "1       2004-12-31 02:00:00            12865.0              AEP\n",
       "2       2004-12-31 03:00:00            12577.0              AEP\n",
       "3       2004-12-31 04:00:00            12517.0              AEP\n",
       "4       2004-12-31 05:00:00            12670.0              AEP\n",
       "...                     ...                ...              ...\n",
       "143201  2018-01-01 20:00:00             8401.0             PJMW\n",
       "143202  2018-01-01 21:00:00             8373.0             PJMW\n",
       "143203  2018-01-01 22:00:00             8238.0             PJMW\n",
       "143204  2018-01-01 23:00:00             7958.0             PJMW\n",
       "143205  2018-01-02 00:00:00             7691.0             PJMW\n",
       "\n",
       "[1090167 rows x 3 columns]"
      ]
     },
     "execution_count": 8,
     "metadata": {},
     "output_type": "execute_result"
    }
   ],
   "source": [
    "total.drop_duplicates()"
   ]
  },
  {
   "cell_type": "code",
   "execution_count": 9,
   "id": "f41e1425",
   "metadata": {},
   "outputs": [
    {
     "data": {
      "text/plain": [
       "Datetime             0\n",
       "energyconsumption    0\n",
       "electric_company     0\n",
       "dtype: int64"
      ]
     },
     "execution_count": 9,
     "metadata": {},
     "output_type": "execute_result"
    }
   ],
   "source": [
    "total.isna().sum()"
   ]
  },
  {
   "cell_type": "code",
   "execution_count": 10,
   "id": "71698a0f",
   "metadata": {},
   "outputs": [
    {
     "data": {
      "text/plain": [
       "Index(['Datetime', 'energyconsumption', 'electric_company'], dtype='object')"
      ]
     },
     "execution_count": 10,
     "metadata": {},
     "output_type": "execute_result"
    }
   ],
   "source": [
    "total.columns\n"
   ]
  },
  {
   "cell_type": "code",
   "execution_count": 11,
   "id": "a5b5a5f0",
   "metadata": {},
   "outputs": [
    {
     "data": {
      "text/html": [
       "<div>\n",
       "<style scoped>\n",
       "    .dataframe tbody tr th:only-of-type {\n",
       "        vertical-align: middle;\n",
       "    }\n",
       "\n",
       "    .dataframe tbody tr th {\n",
       "        vertical-align: top;\n",
       "    }\n",
       "\n",
       "    .dataframe thead th {\n",
       "        text-align: right;\n",
       "    }\n",
       "</style>\n",
       "<table border=\"1\" class=\"dataframe\">\n",
       "  <thead>\n",
       "    <tr style=\"text-align: right;\">\n",
       "      <th></th>\n",
       "      <th>Datetime</th>\n",
       "      <th>energyconsumption</th>\n",
       "      <th>electric_company</th>\n",
       "    </tr>\n",
       "  </thead>\n",
       "  <tbody>\n",
       "    <tr>\n",
       "      <th>0</th>\n",
       "      <td>2004-12-31 01:00:00</td>\n",
       "      <td>13478.0</td>\n",
       "      <td>AEP</td>\n",
       "    </tr>\n",
       "    <tr>\n",
       "      <th>1</th>\n",
       "      <td>2004-12-31 02:00:00</td>\n",
       "      <td>12865.0</td>\n",
       "      <td>AEP</td>\n",
       "    </tr>\n",
       "    <tr>\n",
       "      <th>2</th>\n",
       "      <td>2004-12-31 03:00:00</td>\n",
       "      <td>12577.0</td>\n",
       "      <td>AEP</td>\n",
       "    </tr>\n",
       "    <tr>\n",
       "      <th>3</th>\n",
       "      <td>2004-12-31 04:00:00</td>\n",
       "      <td>12517.0</td>\n",
       "      <td>AEP</td>\n",
       "    </tr>\n",
       "    <tr>\n",
       "      <th>4</th>\n",
       "      <td>2004-12-31 05:00:00</td>\n",
       "      <td>12670.0</td>\n",
       "      <td>AEP</td>\n",
       "    </tr>\n",
       "    <tr>\n",
       "      <th>...</th>\n",
       "      <td>...</td>\n",
       "      <td>...</td>\n",
       "      <td>...</td>\n",
       "    </tr>\n",
       "    <tr>\n",
       "      <th>143201</th>\n",
       "      <td>2018-01-01 20:00:00</td>\n",
       "      <td>8401.0</td>\n",
       "      <td>PJMW</td>\n",
       "    </tr>\n",
       "    <tr>\n",
       "      <th>143202</th>\n",
       "      <td>2018-01-01 21:00:00</td>\n",
       "      <td>8373.0</td>\n",
       "      <td>PJMW</td>\n",
       "    </tr>\n",
       "    <tr>\n",
       "      <th>143203</th>\n",
       "      <td>2018-01-01 22:00:00</td>\n",
       "      <td>8238.0</td>\n",
       "      <td>PJMW</td>\n",
       "    </tr>\n",
       "    <tr>\n",
       "      <th>143204</th>\n",
       "      <td>2018-01-01 23:00:00</td>\n",
       "      <td>7958.0</td>\n",
       "      <td>PJMW</td>\n",
       "    </tr>\n",
       "    <tr>\n",
       "      <th>143205</th>\n",
       "      <td>2018-01-02 00:00:00</td>\n",
       "      <td>7691.0</td>\n",
       "      <td>PJMW</td>\n",
       "    </tr>\n",
       "  </tbody>\n",
       "</table>\n",
       "<p>1090167 rows × 3 columns</p>\n",
       "</div>"
      ],
      "text/plain": [
       "                   Datetime  energyconsumption electric_company\n",
       "0       2004-12-31 01:00:00            13478.0              AEP\n",
       "1       2004-12-31 02:00:00            12865.0              AEP\n",
       "2       2004-12-31 03:00:00            12577.0              AEP\n",
       "3       2004-12-31 04:00:00            12517.0              AEP\n",
       "4       2004-12-31 05:00:00            12670.0              AEP\n",
       "...                     ...                ...              ...\n",
       "143201  2018-01-01 20:00:00             8401.0             PJMW\n",
       "143202  2018-01-01 21:00:00             8373.0             PJMW\n",
       "143203  2018-01-01 22:00:00             8238.0             PJMW\n",
       "143204  2018-01-01 23:00:00             7958.0             PJMW\n",
       "143205  2018-01-02 00:00:00             7691.0             PJMW\n",
       "\n",
       "[1090167 rows x 3 columns]"
      ]
     },
     "execution_count": 11,
     "metadata": {},
     "output_type": "execute_result"
    }
   ],
   "source": [
    "total"
   ]
  },
  {
   "cell_type": "code",
   "execution_count": 12,
   "id": "73755b92",
   "metadata": {},
   "outputs": [
    {
     "data": {
      "text/html": [
       "<div>\n",
       "<style scoped>\n",
       "    .dataframe tbody tr th:only-of-type {\n",
       "        vertical-align: middle;\n",
       "    }\n",
       "\n",
       "    .dataframe tbody tr th {\n",
       "        vertical-align: top;\n",
       "    }\n",
       "\n",
       "    .dataframe thead th {\n",
       "        text-align: right;\n",
       "    }\n",
       "</style>\n",
       "<table border=\"1\" class=\"dataframe\">\n",
       "  <thead>\n",
       "    <tr style=\"text-align: right;\">\n",
       "      <th></th>\n",
       "      <th>Datetime</th>\n",
       "      <th>energyconsumption</th>\n",
       "      <th>electric_company</th>\n",
       "    </tr>\n",
       "  </thead>\n",
       "  <tbody>\n",
       "    <tr>\n",
       "      <th>count</th>\n",
       "      <td>1090167</td>\n",
       "      <td>1.090167e+06</td>\n",
       "      <td>1090167</td>\n",
       "    </tr>\n",
       "    <tr>\n",
       "      <th>unique</th>\n",
       "      <td>178258</td>\n",
       "      <td>NaN</td>\n",
       "      <td>12</td>\n",
       "    </tr>\n",
       "    <tr>\n",
       "      <th>top</th>\n",
       "      <td>2016-11-06 02:00:00</td>\n",
       "      <td>NaN</td>\n",
       "      <td>PJME</td>\n",
       "    </tr>\n",
       "    <tr>\n",
       "      <th>freq</th>\n",
       "      <td>20</td>\n",
       "      <td>NaN</td>\n",
       "      <td>145366</td>\n",
       "    </tr>\n",
       "    <tr>\n",
       "      <th>mean</th>\n",
       "      <td>NaN</td>\n",
       "      <td>1.120959e+04</td>\n",
       "      <td>NaN</td>\n",
       "    </tr>\n",
       "    <tr>\n",
       "      <th>std</th>\n",
       "      <td>NaN</td>\n",
       "      <td>1.053440e+04</td>\n",
       "      <td>NaN</td>\n",
       "    </tr>\n",
       "    <tr>\n",
       "      <th>min</th>\n",
       "      <td>NaN</td>\n",
       "      <td>0.000000e+00</td>\n",
       "      <td>NaN</td>\n",
       "    </tr>\n",
       "    <tr>\n",
       "      <th>25%</th>\n",
       "      <td>NaN</td>\n",
       "      <td>2.455000e+03</td>\n",
       "      <td>NaN</td>\n",
       "    </tr>\n",
       "    <tr>\n",
       "      <th>50%</th>\n",
       "      <td>NaN</td>\n",
       "      <td>8.217000e+03</td>\n",
       "      <td>NaN</td>\n",
       "    </tr>\n",
       "    <tr>\n",
       "      <th>75%</th>\n",
       "      <td>NaN</td>\n",
       "      <td>1.466500e+04</td>\n",
       "      <td>NaN</td>\n",
       "    </tr>\n",
       "    <tr>\n",
       "      <th>max</th>\n",
       "      <td>NaN</td>\n",
       "      <td>6.200900e+04</td>\n",
       "      <td>NaN</td>\n",
       "    </tr>\n",
       "  </tbody>\n",
       "</table>\n",
       "</div>"
      ],
      "text/plain": [
       "                   Datetime  energyconsumption electric_company\n",
       "count               1090167       1.090167e+06          1090167\n",
       "unique               178258                NaN               12\n",
       "top     2016-11-06 02:00:00                NaN             PJME\n",
       "freq                     20                NaN           145366\n",
       "mean                    NaN       1.120959e+04              NaN\n",
       "std                     NaN       1.053440e+04              NaN\n",
       "min                     NaN       0.000000e+00              NaN\n",
       "25%                     NaN       2.455000e+03              NaN\n",
       "50%                     NaN       8.217000e+03              NaN\n",
       "75%                     NaN       1.466500e+04              NaN\n",
       "max                     NaN       6.200900e+04              NaN"
      ]
     },
     "execution_count": 12,
     "metadata": {},
     "output_type": "execute_result"
    }
   ],
   "source": [
    "total.describe(include = 'all')\n"
   ]
  },
  {
   "cell_type": "code",
   "execution_count": 13,
   "id": "a7a6f53f",
   "metadata": {},
   "outputs": [
    {
     "name": "stdout",
     "output_type": "stream",
     "text": [
      "<class 'pandas.core.frame.DataFrame'>\n",
      "Int64Index: 1090167 entries, 0 to 143205\n",
      "Data columns (total 3 columns):\n",
      " #   Column             Non-Null Count    Dtype  \n",
      "---  ------             --------------    -----  \n",
      " 0   Datetime           1090167 non-null  object \n",
      " 1   energyconsumption  1090167 non-null  float64\n",
      " 2   electric_company   1090167 non-null  object \n",
      "dtypes: float64(1), object(2)\n",
      "memory usage: 33.3+ MB\n"
     ]
    }
   ],
   "source": [
    "total.info()"
   ]
  },
  {
   "cell_type": "code",
   "execution_count": 14,
   "id": "45e3e6cc",
   "metadata": {},
   "outputs": [],
   "source": [
    "newcopy=total.copy()"
   ]
  },
  {
   "cell_type": "code",
   "execution_count": 15,
   "id": "5139a639",
   "metadata": {},
   "outputs": [
    {
     "data": {
      "text/html": [
       "<div>\n",
       "<style scoped>\n",
       "    .dataframe tbody tr th:only-of-type {\n",
       "        vertical-align: middle;\n",
       "    }\n",
       "\n",
       "    .dataframe tbody tr th {\n",
       "        vertical-align: top;\n",
       "    }\n",
       "\n",
       "    .dataframe thead th {\n",
       "        text-align: right;\n",
       "    }\n",
       "</style>\n",
       "<table border=\"1\" class=\"dataframe\">\n",
       "  <thead>\n",
       "    <tr style=\"text-align: right;\">\n",
       "      <th></th>\n",
       "      <th>Datetime</th>\n",
       "      <th>energyconsumption</th>\n",
       "      <th>electric_company</th>\n",
       "    </tr>\n",
       "  </thead>\n",
       "  <tbody>\n",
       "    <tr>\n",
       "      <th>0</th>\n",
       "      <td>2004-12-31 01:00:00</td>\n",
       "      <td>13478.0</td>\n",
       "      <td>AEP</td>\n",
       "    </tr>\n",
       "    <tr>\n",
       "      <th>1</th>\n",
       "      <td>2004-12-31 02:00:00</td>\n",
       "      <td>12865.0</td>\n",
       "      <td>AEP</td>\n",
       "    </tr>\n",
       "    <tr>\n",
       "      <th>2</th>\n",
       "      <td>2004-12-31 03:00:00</td>\n",
       "      <td>12577.0</td>\n",
       "      <td>AEP</td>\n",
       "    </tr>\n",
       "    <tr>\n",
       "      <th>3</th>\n",
       "      <td>2004-12-31 04:00:00</td>\n",
       "      <td>12517.0</td>\n",
       "      <td>AEP</td>\n",
       "    </tr>\n",
       "    <tr>\n",
       "      <th>4</th>\n",
       "      <td>2004-12-31 05:00:00</td>\n",
       "      <td>12670.0</td>\n",
       "      <td>AEP</td>\n",
       "    </tr>\n",
       "    <tr>\n",
       "      <th>...</th>\n",
       "      <td>...</td>\n",
       "      <td>...</td>\n",
       "      <td>...</td>\n",
       "    </tr>\n",
       "    <tr>\n",
       "      <th>143201</th>\n",
       "      <td>2018-01-01 20:00:00</td>\n",
       "      <td>8401.0</td>\n",
       "      <td>PJMW</td>\n",
       "    </tr>\n",
       "    <tr>\n",
       "      <th>143202</th>\n",
       "      <td>2018-01-01 21:00:00</td>\n",
       "      <td>8373.0</td>\n",
       "      <td>PJMW</td>\n",
       "    </tr>\n",
       "    <tr>\n",
       "      <th>143203</th>\n",
       "      <td>2018-01-01 22:00:00</td>\n",
       "      <td>8238.0</td>\n",
       "      <td>PJMW</td>\n",
       "    </tr>\n",
       "    <tr>\n",
       "      <th>143204</th>\n",
       "      <td>2018-01-01 23:00:00</td>\n",
       "      <td>7958.0</td>\n",
       "      <td>PJMW</td>\n",
       "    </tr>\n",
       "    <tr>\n",
       "      <th>143205</th>\n",
       "      <td>2018-01-02 00:00:00</td>\n",
       "      <td>7691.0</td>\n",
       "      <td>PJMW</td>\n",
       "    </tr>\n",
       "  </tbody>\n",
       "</table>\n",
       "<p>1090167 rows × 3 columns</p>\n",
       "</div>"
      ],
      "text/plain": [
       "                   Datetime  energyconsumption electric_company\n",
       "0       2004-12-31 01:00:00            13478.0              AEP\n",
       "1       2004-12-31 02:00:00            12865.0              AEP\n",
       "2       2004-12-31 03:00:00            12577.0              AEP\n",
       "3       2004-12-31 04:00:00            12517.0              AEP\n",
       "4       2004-12-31 05:00:00            12670.0              AEP\n",
       "...                     ...                ...              ...\n",
       "143201  2018-01-01 20:00:00             8401.0             PJMW\n",
       "143202  2018-01-01 21:00:00             8373.0             PJMW\n",
       "143203  2018-01-01 22:00:00             8238.0             PJMW\n",
       "143204  2018-01-01 23:00:00             7958.0             PJMW\n",
       "143205  2018-01-02 00:00:00             7691.0             PJMW\n",
       "\n",
       "[1090167 rows x 3 columns]"
      ]
     },
     "execution_count": 15,
     "metadata": {},
     "output_type": "execute_result"
    }
   ],
   "source": [
    "newcopy"
   ]
  },
  {
   "cell_type": "code",
   "execution_count": 16,
   "id": "0681cf0c",
   "metadata": {},
   "outputs": [],
   "source": [
    "newcopy['Datetime'] = pd.to_datetime(newcopy['Datetime'])"
   ]
  },
  {
   "cell_type": "code",
   "execution_count": 17,
   "id": "cdbfbcd4",
   "metadata": {},
   "outputs": [
    {
     "name": "stderr",
     "output_type": "stream",
     "text": [
      "C:\\Users\\DELL\\AppData\\Local\\Temp\\ipykernel_11988\\1151875645.py:6: FutureWarning: Series.dt.weekofyear and Series.dt.week have been deprecated. Please use Series.dt.isocalendar().week instead.\n",
      "  newcopy[\"Week\"] = newcopy[\"Datetime\"].dt.week\n"
     ]
    }
   ],
   "source": [
    "newcopy[\"Month\"] = newcopy[\"Datetime\"].dt.month\n",
    "newcopy[\"Year\"] = newcopy[\"Datetime\"].dt.year\n",
    "newcopy[\"Date\"] = newcopy[\"Datetime\"].dt.date\n",
    "newcopy[\"Time\"] = newcopy[\"Datetime\"].dt.time\n",
    "newcopy['hour'] = newcopy['Datetime'].dt.hour\n",
    "newcopy[\"Week\"] = newcopy[\"Datetime\"].dt.week\n",
    "newcopy[\"Day\"] = newcopy[\"Datetime\"].dt.day"
   ]
  },
  {
   "cell_type": "code",
   "execution_count": 18,
   "id": "b027dc4c",
   "metadata": {},
   "outputs": [
    {
     "data": {
      "text/html": [
       "<div>\n",
       "<style scoped>\n",
       "    .dataframe tbody tr th:only-of-type {\n",
       "        vertical-align: middle;\n",
       "    }\n",
       "\n",
       "    .dataframe tbody tr th {\n",
       "        vertical-align: top;\n",
       "    }\n",
       "\n",
       "    .dataframe thead th {\n",
       "        text-align: right;\n",
       "    }\n",
       "</style>\n",
       "<table border=\"1\" class=\"dataframe\">\n",
       "  <thead>\n",
       "    <tr style=\"text-align: right;\">\n",
       "      <th></th>\n",
       "      <th>Datetime</th>\n",
       "      <th>energyconsumption</th>\n",
       "      <th>electric_company</th>\n",
       "      <th>Month</th>\n",
       "      <th>Year</th>\n",
       "      <th>Date</th>\n",
       "      <th>Time</th>\n",
       "      <th>hour</th>\n",
       "      <th>Week</th>\n",
       "      <th>Day</th>\n",
       "    </tr>\n",
       "  </thead>\n",
       "  <tbody>\n",
       "    <tr>\n",
       "      <th>0</th>\n",
       "      <td>2004-12-31 01:00:00</td>\n",
       "      <td>13478.0</td>\n",
       "      <td>AEP</td>\n",
       "      <td>12</td>\n",
       "      <td>2004</td>\n",
       "      <td>2004-12-31</td>\n",
       "      <td>01:00:00</td>\n",
       "      <td>1</td>\n",
       "      <td>53</td>\n",
       "      <td>31</td>\n",
       "    </tr>\n",
       "    <tr>\n",
       "      <th>1</th>\n",
       "      <td>2004-12-31 02:00:00</td>\n",
       "      <td>12865.0</td>\n",
       "      <td>AEP</td>\n",
       "      <td>12</td>\n",
       "      <td>2004</td>\n",
       "      <td>2004-12-31</td>\n",
       "      <td>02:00:00</td>\n",
       "      <td>2</td>\n",
       "      <td>53</td>\n",
       "      <td>31</td>\n",
       "    </tr>\n",
       "    <tr>\n",
       "      <th>2</th>\n",
       "      <td>2004-12-31 03:00:00</td>\n",
       "      <td>12577.0</td>\n",
       "      <td>AEP</td>\n",
       "      <td>12</td>\n",
       "      <td>2004</td>\n",
       "      <td>2004-12-31</td>\n",
       "      <td>03:00:00</td>\n",
       "      <td>3</td>\n",
       "      <td>53</td>\n",
       "      <td>31</td>\n",
       "    </tr>\n",
       "    <tr>\n",
       "      <th>3</th>\n",
       "      <td>2004-12-31 04:00:00</td>\n",
       "      <td>12517.0</td>\n",
       "      <td>AEP</td>\n",
       "      <td>12</td>\n",
       "      <td>2004</td>\n",
       "      <td>2004-12-31</td>\n",
       "      <td>04:00:00</td>\n",
       "      <td>4</td>\n",
       "      <td>53</td>\n",
       "      <td>31</td>\n",
       "    </tr>\n",
       "    <tr>\n",
       "      <th>4</th>\n",
       "      <td>2004-12-31 05:00:00</td>\n",
       "      <td>12670.0</td>\n",
       "      <td>AEP</td>\n",
       "      <td>12</td>\n",
       "      <td>2004</td>\n",
       "      <td>2004-12-31</td>\n",
       "      <td>05:00:00</td>\n",
       "      <td>5</td>\n",
       "      <td>53</td>\n",
       "      <td>31</td>\n",
       "    </tr>\n",
       "    <tr>\n",
       "      <th>...</th>\n",
       "      <td>...</td>\n",
       "      <td>...</td>\n",
       "      <td>...</td>\n",
       "      <td>...</td>\n",
       "      <td>...</td>\n",
       "      <td>...</td>\n",
       "      <td>...</td>\n",
       "      <td>...</td>\n",
       "      <td>...</td>\n",
       "      <td>...</td>\n",
       "    </tr>\n",
       "    <tr>\n",
       "      <th>143201</th>\n",
       "      <td>2018-01-01 20:00:00</td>\n",
       "      <td>8401.0</td>\n",
       "      <td>PJMW</td>\n",
       "      <td>1</td>\n",
       "      <td>2018</td>\n",
       "      <td>2018-01-01</td>\n",
       "      <td>20:00:00</td>\n",
       "      <td>20</td>\n",
       "      <td>1</td>\n",
       "      <td>1</td>\n",
       "    </tr>\n",
       "    <tr>\n",
       "      <th>143202</th>\n",
       "      <td>2018-01-01 21:00:00</td>\n",
       "      <td>8373.0</td>\n",
       "      <td>PJMW</td>\n",
       "      <td>1</td>\n",
       "      <td>2018</td>\n",
       "      <td>2018-01-01</td>\n",
       "      <td>21:00:00</td>\n",
       "      <td>21</td>\n",
       "      <td>1</td>\n",
       "      <td>1</td>\n",
       "    </tr>\n",
       "    <tr>\n",
       "      <th>143203</th>\n",
       "      <td>2018-01-01 22:00:00</td>\n",
       "      <td>8238.0</td>\n",
       "      <td>PJMW</td>\n",
       "      <td>1</td>\n",
       "      <td>2018</td>\n",
       "      <td>2018-01-01</td>\n",
       "      <td>22:00:00</td>\n",
       "      <td>22</td>\n",
       "      <td>1</td>\n",
       "      <td>1</td>\n",
       "    </tr>\n",
       "    <tr>\n",
       "      <th>143204</th>\n",
       "      <td>2018-01-01 23:00:00</td>\n",
       "      <td>7958.0</td>\n",
       "      <td>PJMW</td>\n",
       "      <td>1</td>\n",
       "      <td>2018</td>\n",
       "      <td>2018-01-01</td>\n",
       "      <td>23:00:00</td>\n",
       "      <td>23</td>\n",
       "      <td>1</td>\n",
       "      <td>1</td>\n",
       "    </tr>\n",
       "    <tr>\n",
       "      <th>143205</th>\n",
       "      <td>2018-01-02 00:00:00</td>\n",
       "      <td>7691.0</td>\n",
       "      <td>PJMW</td>\n",
       "      <td>1</td>\n",
       "      <td>2018</td>\n",
       "      <td>2018-01-02</td>\n",
       "      <td>00:00:00</td>\n",
       "      <td>0</td>\n",
       "      <td>1</td>\n",
       "      <td>2</td>\n",
       "    </tr>\n",
       "  </tbody>\n",
       "</table>\n",
       "<p>1090167 rows × 10 columns</p>\n",
       "</div>"
      ],
      "text/plain": [
       "                  Datetime  energyconsumption electric_company  Month  Year  \\\n",
       "0      2004-12-31 01:00:00            13478.0              AEP     12  2004   \n",
       "1      2004-12-31 02:00:00            12865.0              AEP     12  2004   \n",
       "2      2004-12-31 03:00:00            12577.0              AEP     12  2004   \n",
       "3      2004-12-31 04:00:00            12517.0              AEP     12  2004   \n",
       "4      2004-12-31 05:00:00            12670.0              AEP     12  2004   \n",
       "...                    ...                ...              ...    ...   ...   \n",
       "143201 2018-01-01 20:00:00             8401.0             PJMW      1  2018   \n",
       "143202 2018-01-01 21:00:00             8373.0             PJMW      1  2018   \n",
       "143203 2018-01-01 22:00:00             8238.0             PJMW      1  2018   \n",
       "143204 2018-01-01 23:00:00             7958.0             PJMW      1  2018   \n",
       "143205 2018-01-02 00:00:00             7691.0             PJMW      1  2018   \n",
       "\n",
       "              Date      Time  hour  Week  Day  \n",
       "0       2004-12-31  01:00:00     1    53   31  \n",
       "1       2004-12-31  02:00:00     2    53   31  \n",
       "2       2004-12-31  03:00:00     3    53   31  \n",
       "3       2004-12-31  04:00:00     4    53   31  \n",
       "4       2004-12-31  05:00:00     5    53   31  \n",
       "...            ...       ...   ...   ...  ...  \n",
       "143201  2018-01-01  20:00:00    20     1    1  \n",
       "143202  2018-01-01  21:00:00    21     1    1  \n",
       "143203  2018-01-01  22:00:00    22     1    1  \n",
       "143204  2018-01-01  23:00:00    23     1    1  \n",
       "143205  2018-01-02  00:00:00     0     1    2  \n",
       "\n",
       "[1090167 rows x 10 columns]"
      ]
     },
     "execution_count": 18,
     "metadata": {},
     "output_type": "execute_result"
    }
   ],
   "source": [
    "newcopy"
   ]
  },
  {
   "cell_type": "code",
   "execution_count": 19,
   "id": "bdaa8c9b",
   "metadata": {},
   "outputs": [
    {
     "name": "stdout",
     "output_type": "stream",
     "text": [
      "<class 'pandas.core.frame.DataFrame'>\n",
      "Int64Index: 1090167 entries, 0 to 143205\n",
      "Data columns (total 10 columns):\n",
      " #   Column             Non-Null Count    Dtype         \n",
      "---  ------             --------------    -----         \n",
      " 0   Datetime           1090167 non-null  datetime64[ns]\n",
      " 1   energyconsumption  1090167 non-null  float64       \n",
      " 2   electric_company   1090167 non-null  object        \n",
      " 3   Month              1090167 non-null  int64         \n",
      " 4   Year               1090167 non-null  int64         \n",
      " 5   Date               1090167 non-null  object        \n",
      " 6   Time               1090167 non-null  object        \n",
      " 7   hour               1090167 non-null  int64         \n",
      " 8   Week               1090167 non-null  int64         \n",
      " 9   Day                1090167 non-null  int64         \n",
      "dtypes: datetime64[ns](1), float64(1), int64(5), object(3)\n",
      "memory usage: 91.5+ MB\n"
     ]
    }
   ],
   "source": [
    "newcopy.info()"
   ]
  },
  {
   "cell_type": "code",
   "execution_count": 20,
   "id": "4746ea68",
   "metadata": {},
   "outputs": [],
   "source": [
    "x=newcopy['energyconsumption']\n",
    "y=newcopy['Year']\n"
   ]
  },
  {
   "cell_type": "code",
   "execution_count": 21,
   "id": "375742cc",
   "metadata": {},
   "outputs": [
    {
     "data": {
      "text/plain": [
       "PJME      145366\n",
       "PJMW      143206\n",
       "DAYTON    121275\n",
       "AEP       121273\n",
       "DUQ       119068\n",
       "DOM       116189\n",
       "COMED      66497\n",
       "FE         62874\n",
       "NI         58450\n",
       "DEOK       57739\n",
       "EKPC       45334\n",
       "PJM        32896\n",
       "Name: electric_company, dtype: int64"
      ]
     },
     "execution_count": 21,
     "metadata": {},
     "output_type": "execute_result"
    },
    {
     "data": {
      "image/png": "[encoded data removed]",
      "text/plain": [
       "<Figure size 432x288 with 1 Axes>"
      ]
     },
     "metadata": {
      "needs_background": "light"
     },
     "output_type": "display_data"
    }
   ],
   "source": [
    "sb.countplot(x=\"electric_company\", data=newcopy)\n",
    "newcopy.loc[:,'electric_company'].value_counts()"
   ]
  },
  {
   "cell_type": "code",
   "execution_count": 22,
   "id": "4f57e5b2",
   "metadata": {},
   "outputs": [
    {
     "data": {
      "text/plain": [
       "<AxesSubplot:xlabel='hour', ylabel='energyconsumption'>"
      ]
     },
     "execution_count": 22,
     "metadata": {},
     "output_type": "execute_result"
    },
    {
     "data": {
      "image/png": "[encoded data removed]",
      "text/plain": [
       "<Figure size 432x288 with 1 Axes>"
      ]
     },
     "metadata": {
      "needs_background": "light"
     },
     "output_type": "display_data"
    }
   ],
   "source": [
    "aux1 = newcopy[['hour', 'energyconsumption']].groupby( 'hour' ).sum().reset_index()\n",
    "sb.barplot( x='hour', y='energyconsumption', data=aux1)"
   ]
  },
  {
   "cell_type": "code",
   "execution_count": 23,
   "id": "08e861dc",
   "metadata": {},
   "outputs": [
    {
     "data": {
      "text/plain": [
       "<AxesSubplot:xlabel='Month', ylabel='energyconsumption'>"
      ]
     },
     "execution_count": 23,
     "metadata": {},
     "output_type": "execute_result"
    },
    {
     "data": {
      "image/png": "[encoded data removed]",
      "text/plain": [
       "<Figure size 432x288 with 1 Axes>"
      ]
     },
     "metadata": {
      "needs_background": "light"
     },
     "output_type": "display_data"
    }
   ],
   "source": [
    "aux1 = newcopy[['Month', 'energyconsumption']].groupby( 'Month' ).sum().reset_index()\n",
    "sb.barplot( x='Month', y='energyconsumption', data=aux1)"
   ]
  },
  {
   "cell_type": "code",
   "execution_count": 24,
   "id": "5e3f97d3",
   "metadata": {},
   "outputs": [
    {
     "name": "stdout",
     "output_type": "stream",
     "text": [
      "<class 'pandas.core.frame.DataFrame'>\n",
      "Int64Index: 1090167 entries, 0 to 143205\n",
      "Data columns (total 10 columns):\n",
      " #   Column             Non-Null Count    Dtype         \n",
      "---  ------             --------------    -----         \n",
      " 0   Datetime           1090167 non-null  datetime64[ns]\n",
      " 1   energyconsumption  1090167 non-null  float64       \n",
      " 2   electric_company   1090167 non-null  object        \n",
      " 3   Month              1090167 non-null  int64         \n",
      " 4   Year               1090167 non-null  int64         \n",
      " 5   Date               1090167 non-null  object        \n",
      " 6   Time               1090167 non-null  object        \n",
      " 7   hour               1090167 non-null  int64         \n",
      " 8   Week               1090167 non-null  int64         \n",
      " 9   Day                1090167 non-null  int64         \n",
      "dtypes: datetime64[ns](1), float64(1), int64(5), object(3)\n",
      "memory usage: 91.5+ MB\n"
     ]
    }
   ],
   "source": [
    "newcopy.info()"
   ]
  },
  {
   "cell_type": "code",
   "execution_count": 25,
   "id": "83d5f81c",
   "metadata": {},
   "outputs": [],
   "source": [
    "newcopy_1=newcopy.copy()"
   ]
  },
  {
   "cell_type": "code",
   "execution_count": 26,
   "id": "49985264",
   "metadata": {},
   "outputs": [],
   "source": [
    "newcopy_1.drop([\"Datetime\",\"Date\",\"Time\"],axis=1,inplace=True)"
   ]
  },
  {
   "cell_type": "code",
   "execution_count": 27,
   "id": "ab3f9ebd",
   "metadata": {},
   "outputs": [
    {
     "data": {
      "text/plain": [
       "energyconsumption    float64\n",
       "electric_company      object\n",
       "Month                  int64\n",
       "Year                   int64\n",
       "hour                   int64\n",
       "Week                   int64\n",
       "Day                    int64\n",
       "dtype: object"
      ]
     },
     "execution_count": 27,
     "metadata": {},
     "output_type": "execute_result"
    }
   ],
   "source": [
    "newcopy_1.dtypes"
   ]
  },
  {
   "cell_type": "code",
   "execution_count": 28,
   "id": "298e0dbd",
   "metadata": {},
   "outputs": [
    {
     "data": {
      "text/plain": [
       "array(['AEP', 'COMED', 'DAYTON', 'DEOK', 'DOM', 'DUQ', 'EKPC', 'FE', 'NI',\n",
       "       'PJM', 'PJME', 'PJMW'], dtype=object)"
      ]
     },
     "execution_count": 28,
     "metadata": {},
     "output_type": "execute_result"
    }
   ],
   "source": [
    "newcopy_1[\"electric_company\"].unique()"
   ]
  },
  {
   "cell_type": "code",
   "execution_count": 29,
   "id": "ce4cac41",
   "metadata": {},
   "outputs": [],
   "source": [
    "from sklearn.preprocessing import LabelEncoder\n",
    "labelencoder = LabelEncoder()\n",
    "newcopy_1[\"electric_company\"]=labelencoder.fit_transform(newcopy_1['electric_company'])"
   ]
  },
  {
   "cell_type": "code",
   "execution_count": 30,
   "id": "f4b19850",
   "metadata": {},
   "outputs": [
    {
     "data": {
      "text/html": [
       "<div>\n",
       "<style scoped>\n",
       "    .dataframe tbody tr th:only-of-type {\n",
       "        vertical-align: middle;\n",
       "    }\n",
       "\n",
       "    .dataframe tbody tr th {\n",
       "        vertical-align: top;\n",
       "    }\n",
       "\n",
       "    .dataframe thead th {\n",
       "        text-align: right;\n",
       "    }\n",
       "</style>\n",
       "<table border=\"1\" class=\"dataframe\">\n",
       "  <thead>\n",
       "    <tr style=\"text-align: right;\">\n",
       "      <th></th>\n",
       "      <th>energyconsumption</th>\n",
       "      <th>electric_company</th>\n",
       "      <th>Month</th>\n",
       "      <th>Year</th>\n",
       "      <th>hour</th>\n",
       "      <th>Week</th>\n",
       "      <th>Day</th>\n",
       "    </tr>\n",
       "  </thead>\n",
       "  <tbody>\n",
       "    <tr>\n",
       "      <th>0</th>\n",
       "      <td>13478.0</td>\n",
       "      <td>0</td>\n",
       "      <td>12</td>\n",
       "      <td>2004</td>\n",
       "      <td>1</td>\n",
       "      <td>53</td>\n",
       "      <td>31</td>\n",
       "    </tr>\n",
       "    <tr>\n",
       "      <th>1</th>\n",
       "      <td>12865.0</td>\n",
       "      <td>0</td>\n",
       "      <td>12</td>\n",
       "      <td>2004</td>\n",
       "      <td>2</td>\n",
       "      <td>53</td>\n",
       "      <td>31</td>\n",
       "    </tr>\n",
       "    <tr>\n",
       "      <th>2</th>\n",
       "      <td>12577.0</td>\n",
       "      <td>0</td>\n",
       "      <td>12</td>\n",
       "      <td>2004</td>\n",
       "      <td>3</td>\n",
       "      <td>53</td>\n",
       "      <td>31</td>\n",
       "    </tr>\n",
       "    <tr>\n",
       "      <th>3</th>\n",
       "      <td>12517.0</td>\n",
       "      <td>0</td>\n",
       "      <td>12</td>\n",
       "      <td>2004</td>\n",
       "      <td>4</td>\n",
       "      <td>53</td>\n",
       "      <td>31</td>\n",
       "    </tr>\n",
       "    <tr>\n",
       "      <th>4</th>\n",
       "      <td>12670.0</td>\n",
       "      <td>0</td>\n",
       "      <td>12</td>\n",
       "      <td>2004</td>\n",
       "      <td>5</td>\n",
       "      <td>53</td>\n",
       "      <td>31</td>\n",
       "    </tr>\n",
       "    <tr>\n",
       "      <th>...</th>\n",
       "      <td>...</td>\n",
       "      <td>...</td>\n",
       "      <td>...</td>\n",
       "      <td>...</td>\n",
       "      <td>...</td>\n",
       "      <td>...</td>\n",
       "      <td>...</td>\n",
       "    </tr>\n",
       "    <tr>\n",
       "      <th>143201</th>\n",
       "      <td>8401.0</td>\n",
       "      <td>11</td>\n",
       "      <td>1</td>\n",
       "      <td>2018</td>\n",
       "      <td>20</td>\n",
       "      <td>1</td>\n",
       "      <td>1</td>\n",
       "    </tr>\n",
       "    <tr>\n",
       "      <th>143202</th>\n",
       "      <td>8373.0</td>\n",
       "      <td>11</td>\n",
       "      <td>1</td>\n",
       "      <td>2018</td>\n",
       "      <td>21</td>\n",
       "      <td>1</td>\n",
       "      <td>1</td>\n",
       "    </tr>\n",
       "    <tr>\n",
       "      <th>143203</th>\n",
       "      <td>8238.0</td>\n",
       "      <td>11</td>\n",
       "      <td>1</td>\n",
       "      <td>2018</td>\n",
       "      <td>22</td>\n",
       "      <td>1</td>\n",
       "      <td>1</td>\n",
       "    </tr>\n",
       "    <tr>\n",
       "      <th>143204</th>\n",
       "      <td>7958.0</td>\n",
       "      <td>11</td>\n",
       "      <td>1</td>\n",
       "      <td>2018</td>\n",
       "      <td>23</td>\n",
       "      <td>1</td>\n",
       "      <td>1</td>\n",
       "    </tr>\n",
       "    <tr>\n",
       "      <th>143205</th>\n",
       "      <td>7691.0</td>\n",
       "      <td>11</td>\n",
       "      <td>1</td>\n",
       "      <td>2018</td>\n",
       "      <td>0</td>\n",
       "      <td>1</td>\n",
       "      <td>2</td>\n",
       "    </tr>\n",
       "  </tbody>\n",
       "</table>\n",
       "<p>1090167 rows × 7 columns</p>\n",
       "</div>"
      ],
      "text/plain": [
       "        energyconsumption  electric_company  Month  Year  hour  Week  Day\n",
       "0                 13478.0                 0     12  2004     1    53   31\n",
       "1                 12865.0                 0     12  2004     2    53   31\n",
       "2                 12577.0                 0     12  2004     3    53   31\n",
       "3                 12517.0                 0     12  2004     4    53   31\n",
       "4                 12670.0                 0     12  2004     5    53   31\n",
       "...                   ...               ...    ...   ...   ...   ...  ...\n",
       "143201             8401.0                11      1  2018    20     1    1\n",
       "143202             8373.0                11      1  2018    21     1    1\n",
       "143203             8238.0                11      1  2018    22     1    1\n",
       "143204             7958.0                11      1  2018    23     1    1\n",
       "143205             7691.0                11      1  2018     0     1    2\n",
       "\n",
       "[1090167 rows x 7 columns]"
      ]
     },
     "execution_count": 30,
     "metadata": {},
     "output_type": "execute_result"
    }
   ],
   "source": [
    "newcopy_1"
   ]
  },
  {
   "cell_type": "code",
   "execution_count": 31,
   "id": "84450f3f",
   "metadata": {},
   "outputs": [
    {
     "data": {
      "text/plain": [
       "energyconsumption    float64\n",
       "electric_company       int32\n",
       "Month                  int64\n",
       "Year                   int64\n",
       "hour                   int64\n",
       "Week                   int64\n",
       "Day                    int64\n",
       "dtype: object"
      ]
     },
     "execution_count": 31,
     "metadata": {},
     "output_type": "execute_result"
    }
   ],
   "source": [
    "newcopy_1.dtypes"
   ]
  },
  {
   "cell_type": "code",
   "execution_count": 32,
   "id": "fb5c2a76",
   "metadata": {},
   "outputs": [
    {
     "data": {
      "text/html": [
       "<div>\n",
       "<style scoped>\n",
       "    .dataframe tbody tr th:only-of-type {\n",
       "        vertical-align: middle;\n",
       "    }\n",
       "\n",
       "    .dataframe tbody tr th {\n",
       "        vertical-align: top;\n",
       "    }\n",
       "\n",
       "    .dataframe thead th {\n",
       "        text-align: right;\n",
       "    }\n",
       "</style>\n",
       "<table border=\"1\" class=\"dataframe\">\n",
       "  <thead>\n",
       "    <tr style=\"text-align: right;\">\n",
       "      <th></th>\n",
       "      <th>electric_company</th>\n",
       "      <th>Month</th>\n",
       "      <th>Year</th>\n",
       "      <th>hour</th>\n",
       "      <th>Week</th>\n",
       "      <th>Day</th>\n",
       "    </tr>\n",
       "  </thead>\n",
       "  <tbody>\n",
       "    <tr>\n",
       "      <th>0</th>\n",
       "      <td>0</td>\n",
       "      <td>12</td>\n",
       "      <td>2004</td>\n",
       "      <td>1</td>\n",
       "      <td>53</td>\n",
       "      <td>31</td>\n",
       "    </tr>\n",
       "    <tr>\n",
       "      <th>1</th>\n",
       "      <td>0</td>\n",
       "      <td>12</td>\n",
       "      <td>2004</td>\n",
       "      <td>2</td>\n",
       "      <td>53</td>\n",
       "      <td>31</td>\n",
       "    </tr>\n",
       "    <tr>\n",
       "      <th>2</th>\n",
       "      <td>0</td>\n",
       "      <td>12</td>\n",
       "      <td>2004</td>\n",
       "      <td>3</td>\n",
       "      <td>53</td>\n",
       "      <td>31</td>\n",
       "    </tr>\n",
       "    <tr>\n",
       "      <th>3</th>\n",
       "      <td>0</td>\n",
       "      <td>12</td>\n",
       "      <td>2004</td>\n",
       "      <td>4</td>\n",
       "      <td>53</td>\n",
       "      <td>31</td>\n",
       "    </tr>\n",
       "    <tr>\n",
       "      <th>4</th>\n",
       "      <td>0</td>\n",
       "      <td>12</td>\n",
       "      <td>2004</td>\n",
       "      <td>5</td>\n",
       "      <td>53</td>\n",
       "      <td>31</td>\n",
       "    </tr>\n",
       "    <tr>\n",
       "      <th>...</th>\n",
       "      <td>...</td>\n",
       "      <td>...</td>\n",
       "      <td>...</td>\n",
       "      <td>...</td>\n",
       "      <td>...</td>\n",
       "      <td>...</td>\n",
       "    </tr>\n",
       "    <tr>\n",
       "      <th>143201</th>\n",
       "      <td>11</td>\n",
       "      <td>1</td>\n",
       "      <td>2018</td>\n",
       "      <td>20</td>\n",
       "      <td>1</td>\n",
       "      <td>1</td>\n",
       "    </tr>\n",
       "    <tr>\n",
       "      <th>143202</th>\n",
       "      <td>11</td>\n",
       "      <td>1</td>\n",
       "      <td>2018</td>\n",
       "      <td>21</td>\n",
       "      <td>1</td>\n",
       "      <td>1</td>\n",
       "    </tr>\n",
       "    <tr>\n",
       "      <th>143203</th>\n",
       "      <td>11</td>\n",
       "      <td>1</td>\n",
       "      <td>2018</td>\n",
       "      <td>22</td>\n",
       "      <td>1</td>\n",
       "      <td>1</td>\n",
       "    </tr>\n",
       "    <tr>\n",
       "      <th>143204</th>\n",
       "      <td>11</td>\n",
       "      <td>1</td>\n",
       "      <td>2018</td>\n",
       "      <td>23</td>\n",
       "      <td>1</td>\n",
       "      <td>1</td>\n",
       "    </tr>\n",
       "    <tr>\n",
       "      <th>143205</th>\n",
       "      <td>11</td>\n",
       "      <td>1</td>\n",
       "      <td>2018</td>\n",
       "      <td>0</td>\n",
       "      <td>1</td>\n",
       "      <td>2</td>\n",
       "    </tr>\n",
       "  </tbody>\n",
       "</table>\n",
       "<p>1090167 rows × 6 columns</p>\n",
       "</div>"
      ],
      "text/plain": [
       "        electric_company  Month  Year  hour  Week  Day\n",
       "0                      0     12  2004     1    53   31\n",
       "1                      0     12  2004     2    53   31\n",
       "2                      0     12  2004     3    53   31\n",
       "3                      0     12  2004     4    53   31\n",
       "4                      0     12  2004     5    53   31\n",
       "...                  ...    ...   ...   ...   ...  ...\n",
       "143201                11      1  2018    20     1    1\n",
       "143202                11      1  2018    21     1    1\n",
       "143203                11      1  2018    22     1    1\n",
       "143204                11      1  2018    23     1    1\n",
       "143205                11      1  2018     0     1    2\n",
       "\n",
       "[1090167 rows x 6 columns]"
      ]
     },
     "execution_count": 32,
     "metadata": {},
     "output_type": "execute_result"
    }
   ],
   "source": [
    "features=newcopy_1.drop(\"energyconsumption\",axis=1)\n",
    "label=newcopy_1[\"energyconsumption\"]\n",
    "features"
   ]
  },
  {
   "cell_type": "code",
   "execution_count": 33,
   "id": "42777df1",
   "metadata": {},
   "outputs": [
    {
     "data": {
      "text/plain": [
       "0         13478.0\n",
       "1         12865.0\n",
       "2         12577.0\n",
       "3         12517.0\n",
       "4         12670.0\n",
       "           ...   \n",
       "143201     8401.0\n",
       "143202     8373.0\n",
       "143203     8238.0\n",
       "143204     7958.0\n",
       "143205     7691.0\n",
       "Name: energyconsumption, Length: 1090167, dtype: float64"
      ]
     },
     "execution_count": 33,
     "metadata": {},
     "output_type": "execute_result"
    }
   ],
   "source": [
    "label"
   ]
  },
  {
   "cell_type": "code",
   "execution_count": 34,
   "id": "4219876e",
   "metadata": {},
   "outputs": [],
   "source": [
    "from sklearn.model_selection import train_test_split\n",
    "X_train,X_test,Y_train,Y_test=train_test_split(features,label,test_size=0.2)"
   ]
  },
  {
   "cell_type": "code",
   "execution_count": 35,
   "id": "d8cd7691",
   "metadata": {},
   "outputs": [],
   "source": [
    "from sklearn.ensemble import RandomForestRegressor\n",
    "moel= RandomForestRegressor(n_jobs= -1)"
   ]
  },
  {
   "cell_type": "code",
   "execution_count": 36,
   "id": "b53f9529",
   "metadata": {},
   "outputs": [
    {
     "data": {
      "text/plain": [
       "RandomForestRegressor(n_jobs=-1)"
      ]
     },
     "execution_count": 36,
     "metadata": {},
     "output_type": "execute_result"
    }
   ],
   "source": [
    "moel.fit(X_train,Y_train)"
   ]
  },
  {
   "cell_type": "code",
   "execution_count": 37,
   "id": "1ebd99c2",
   "metadata": {},
   "outputs": [
    {
     "data": {
      "text/plain": [
       "0.9956807806847212"
      ]
     },
     "execution_count": 37,
     "metadata": {},
     "output_type": "execute_result"
    }
   ],
   "source": [
    "moel.score(X_test,Y_test)"
   ]
  },
  {
   "cell_type": "code",
   "execution_count": 38,
   "id": "b3bc4825",
   "metadata": {},
   "outputs": [
    {
     "data": {
      "text/plain": [
       "dtype('float64')"
      ]
     },
     "execution_count": 38,
     "metadata": {},
     "output_type": "execute_result"
    }
   ],
   "source": [
    "label.dtype"
   ]
  },
  {
   "cell_type": "code",
   "execution_count": 39,
   "id": "6ae15895",
   "metadata": {},
   "outputs": [
    {
     "data": {
      "text/html": [
       "<div>\n",
       "<style scoped>\n",
       "    .dataframe tbody tr th:only-of-type {\n",
       "        vertical-align: middle;\n",
       "    }\n",
       "\n",
       "    .dataframe tbody tr th {\n",
       "        vertical-align: top;\n",
       "    }\n",
       "\n",
       "    .dataframe thead th {\n",
       "        text-align: right;\n",
       "    }\n",
       "</style>\n",
       "<table border=\"1\" class=\"dataframe\">\n",
       "  <thead>\n",
       "    <tr style=\"text-align: right;\">\n",
       "      <th></th>\n",
       "      <th>0</th>\n",
       "      <th>1</th>\n",
       "      <th>2</th>\n",
       "      <th>3</th>\n",
       "      <th>4</th>\n",
       "      <th>5</th>\n",
       "    </tr>\n",
       "  </thead>\n",
       "  <tbody>\n",
       "    <tr>\n",
       "      <th>0</th>\n",
       "      <td>0.0</td>\n",
       "      <td>1.0</td>\n",
       "      <td>0.3</td>\n",
       "      <td>0.043478</td>\n",
       "      <td>1.0</td>\n",
       "      <td>1.000000</td>\n",
       "    </tr>\n",
       "    <tr>\n",
       "      <th>1</th>\n",
       "      <td>0.0</td>\n",
       "      <td>1.0</td>\n",
       "      <td>0.3</td>\n",
       "      <td>0.086957</td>\n",
       "      <td>1.0</td>\n",
       "      <td>1.000000</td>\n",
       "    </tr>\n",
       "    <tr>\n",
       "      <th>2</th>\n",
       "      <td>0.0</td>\n",
       "      <td>1.0</td>\n",
       "      <td>0.3</td>\n",
       "      <td>0.130435</td>\n",
       "      <td>1.0</td>\n",
       "      <td>1.000000</td>\n",
       "    </tr>\n",
       "    <tr>\n",
       "      <th>3</th>\n",
       "      <td>0.0</td>\n",
       "      <td>1.0</td>\n",
       "      <td>0.3</td>\n",
       "      <td>0.173913</td>\n",
       "      <td>1.0</td>\n",
       "      <td>1.000000</td>\n",
       "    </tr>\n",
       "    <tr>\n",
       "      <th>4</th>\n",
       "      <td>0.0</td>\n",
       "      <td>1.0</td>\n",
       "      <td>0.3</td>\n",
       "      <td>0.217391</td>\n",
       "      <td>1.0</td>\n",
       "      <td>1.000000</td>\n",
       "    </tr>\n",
       "    <tr>\n",
       "      <th>...</th>\n",
       "      <td>...</td>\n",
       "      <td>...</td>\n",
       "      <td>...</td>\n",
       "      <td>...</td>\n",
       "      <td>...</td>\n",
       "      <td>...</td>\n",
       "    </tr>\n",
       "    <tr>\n",
       "      <th>1090162</th>\n",
       "      <td>1.0</td>\n",
       "      <td>0.0</td>\n",
       "      <td>1.0</td>\n",
       "      <td>0.869565</td>\n",
       "      <td>0.0</td>\n",
       "      <td>0.000000</td>\n",
       "    </tr>\n",
       "    <tr>\n",
       "      <th>1090163</th>\n",
       "      <td>1.0</td>\n",
       "      <td>0.0</td>\n",
       "      <td>1.0</td>\n",
       "      <td>0.913043</td>\n",
       "      <td>0.0</td>\n",
       "      <td>0.000000</td>\n",
       "    </tr>\n",
       "    <tr>\n",
       "      <th>1090164</th>\n",
       "      <td>1.0</td>\n",
       "      <td>0.0</td>\n",
       "      <td>1.0</td>\n",
       "      <td>0.956522</td>\n",
       "      <td>0.0</td>\n",
       "      <td>0.000000</td>\n",
       "    </tr>\n",
       "    <tr>\n",
       "      <th>1090165</th>\n",
       "      <td>1.0</td>\n",
       "      <td>0.0</td>\n",
       "      <td>1.0</td>\n",
       "      <td>1.000000</td>\n",
       "      <td>0.0</td>\n",
       "      <td>0.000000</td>\n",
       "    </tr>\n",
       "    <tr>\n",
       "      <th>1090166</th>\n",
       "      <td>1.0</td>\n",
       "      <td>0.0</td>\n",
       "      <td>1.0</td>\n",
       "      <td>0.000000</td>\n",
       "      <td>0.0</td>\n",
       "      <td>0.033333</td>\n",
       "    </tr>\n",
       "  </tbody>\n",
       "</table>\n",
       "<p>1090167 rows × 6 columns</p>\n",
       "</div>"
      ],
      "text/plain": [
       "           0    1    2         3    4         5\n",
       "0        0.0  1.0  0.3  0.043478  1.0  1.000000\n",
       "1        0.0  1.0  0.3  0.086957  1.0  1.000000\n",
       "2        0.0  1.0  0.3  0.130435  1.0  1.000000\n",
       "3        0.0  1.0  0.3  0.173913  1.0  1.000000\n",
       "4        0.0  1.0  0.3  0.217391  1.0  1.000000\n",
       "...      ...  ...  ...       ...  ...       ...\n",
       "1090162  1.0  0.0  1.0  0.869565  0.0  0.000000\n",
       "1090163  1.0  0.0  1.0  0.913043  0.0  0.000000\n",
       "1090164  1.0  0.0  1.0  0.956522  0.0  0.000000\n",
       "1090165  1.0  0.0  1.0  1.000000  0.0  0.000000\n",
       "1090166  1.0  0.0  1.0  0.000000  0.0  0.033333\n",
       "\n",
       "[1090167 rows x 6 columns]"
      ]
     },
     "execution_count": 39,
     "metadata": {},
     "output_type": "execute_result"
    }
   ],
   "source": [
    "from sklearn import preprocessing\n",
    "min_max_scaler = preprocessing.MinMaxScaler()\n",
    "normalized_arr = preprocessing.normalize(features)\n",
    "feature_scaled = min_max_scaler.fit_transform(features)\n",
    "normalized_features= pd.DataFrame(feature_scaled)\n",
    "normalized_features"
   ]
  },
  {
   "cell_type": "code",
   "execution_count": 40,
   "id": "7bbee5b9",
   "metadata": {},
   "outputs": [],
   "source": [
    "label=label.values.reshape(-1, 1)"
   ]
  },
  {
   "cell_type": "code",
   "execution_count": 41,
   "id": "82c6e706",
   "metadata": {},
   "outputs": [],
   "source": [
    "from sklearn import preprocessing\n",
    "normalized_arr = preprocessing.normalize(label)\n",
    "label_scaled = min_max_scaler.fit_transform(label)\n",
    "normalized_label= pd.DataFrame(label_scaled)"
   ]
  },
  {
   "cell_type": "code",
   "execution_count": 42,
   "id": "4770d593",
   "metadata": {},
   "outputs": [
    {
     "data": {
      "text/html": [
       "<div>\n",
       "<style scoped>\n",
       "    .dataframe tbody tr th:only-of-type {\n",
       "        vertical-align: middle;\n",
       "    }\n",
       "\n",
       "    .dataframe tbody tr th {\n",
       "        vertical-align: top;\n",
       "    }\n",
       "\n",
       "    .dataframe thead th {\n",
       "        text-align: right;\n",
       "    }\n",
       "</style>\n",
       "<table border=\"1\" class=\"dataframe\">\n",
       "  <thead>\n",
       "    <tr style=\"text-align: right;\">\n",
       "      <th></th>\n",
       "      <th>0</th>\n",
       "    </tr>\n",
       "  </thead>\n",
       "  <tbody>\n",
       "    <tr>\n",
       "      <th>0</th>\n",
       "      <td>0.217356</td>\n",
       "    </tr>\n",
       "    <tr>\n",
       "      <th>1</th>\n",
       "      <td>0.207470</td>\n",
       "    </tr>\n",
       "    <tr>\n",
       "      <th>2</th>\n",
       "      <td>0.202825</td>\n",
       "    </tr>\n",
       "    <tr>\n",
       "      <th>3</th>\n",
       "      <td>0.201858</td>\n",
       "    </tr>\n",
       "    <tr>\n",
       "      <th>4</th>\n",
       "      <td>0.204325</td>\n",
       "    </tr>\n",
       "    <tr>\n",
       "      <th>...</th>\n",
       "      <td>...</td>\n",
       "    </tr>\n",
       "    <tr>\n",
       "      <th>1090162</th>\n",
       "      <td>0.135480</td>\n",
       "    </tr>\n",
       "    <tr>\n",
       "      <th>1090163</th>\n",
       "      <td>0.135029</td>\n",
       "    </tr>\n",
       "    <tr>\n",
       "      <th>1090164</th>\n",
       "      <td>0.132852</td>\n",
       "    </tr>\n",
       "    <tr>\n",
       "      <th>1090165</th>\n",
       "      <td>0.128336</td>\n",
       "    </tr>\n",
       "    <tr>\n",
       "      <th>1090166</th>\n",
       "      <td>0.124030</td>\n",
       "    </tr>\n",
       "  </tbody>\n",
       "</table>\n",
       "<p>1090167 rows × 1 columns</p>\n",
       "</div>"
      ],
      "text/plain": [
       "                0\n",
       "0        0.217356\n",
       "1        0.207470\n",
       "2        0.202825\n",
       "3        0.201858\n",
       "4        0.204325\n",
       "...           ...\n",
       "1090162  0.135480\n",
       "1090163  0.135029\n",
       "1090164  0.132852\n",
       "1090165  0.128336\n",
       "1090166  0.124030\n",
       "\n",
       "[1090167 rows x 1 columns]"
      ]
     },
     "execution_count": 42,
     "metadata": {},
     "output_type": "execute_result"
    }
   ],
   "source": [
    "normalized_label"
   ]
  },
  {
   "cell_type": "code",
   "execution_count": 43,
   "id": "598eeacb",
   "metadata": {},
   "outputs": [],
   "source": [
    "from sklearn.model_selection import train_test_split\n",
    "X_train,X_test,Y_train,Y_test=train_test_split(normalized_features,normalized_label,test_size=0.2)"
   ]
  },
  {
   "cell_type": "code",
   "execution_count": 44,
   "id": "786f768c",
   "metadata": {},
   "outputs": [],
   "source": [
    "from sklearn.ensemble import RandomForestRegressor\n",
    "model1=RandomForestRegressor(n_jobs= -1)"
   ]
  },
  {
   "cell_type": "code",
   "execution_count": 45,
   "id": "67f1a145",
   "metadata": {},
   "outputs": [
    {
     "data": {
      "text/plain": [
       "RandomForestRegressor(n_jobs=-1)"
      ]
     },
     "execution_count": 45,
     "metadata": {},
     "output_type": "execute_result"
    }
   ],
   "source": [
    "Y_train=Y_train.values.ravel()\n",
    "model1.fit(X_train,Y_train)"
   ]
  },
  {
   "cell_type": "code",
   "execution_count": 46,
   "id": "3717fdb2",
   "metadata": {},
   "outputs": [
    {
     "data": {
      "text/plain": [
       "0.9956117163366038"
      ]
     },
     "execution_count": 46,
     "metadata": {},
     "output_type": "execute_result"
    }
   ],
   "source": [
    "Y_test=Y_test.values.ravel()\n",
    "model1.score(X_test,Y_test)"
   ]
  },
  {
   "cell_type": "code",
   "execution_count": 47,
   "id": "8a21ab40",
   "metadata": {},
   "outputs": [],
   "source": [
    "from sklearn.linear_model  import LinearRegression\n",
    "model2=LinearRegression(n_jobs= -1)"
   ]
  },
  {
   "cell_type": "code",
   "execution_count": 48,
   "id": "7505551a",
   "metadata": {},
   "outputs": [
    {
     "data": {
      "text/plain": [
       "LinearRegression(n_jobs=-1)"
      ]
     },
     "execution_count": 48,
     "metadata": {},
     "output_type": "execute_result"
    }
   ],
   "source": [
    "model2.fit(X_train,Y_train)"
   ]
  },
  {
   "cell_type": "code",
   "execution_count": 49,
   "id": "f5c850d3",
   "metadata": {},
   "outputs": [
    {
     "data": {
      "text/plain": [
       "0.15467802989721702"
      ]
     },
     "execution_count": 49,
     "metadata": {},
     "output_type": "execute_result"
    }
   ],
   "source": [
    "model2.score(X_test,Y_test)"
   ]
  },
  {
   "cell_type": "code",
   "execution_count": 50,
   "id": "2fde118b",
   "metadata": {},
   "outputs": [
    {
     "data": {
      "text/plain": [
       "array([0.99497838, 0.99528104, 0.99518386, 0.99510835, 0.99508822,\n",
       "       0.99506594, 0.99507558, 0.99512405])"
      ]
     },
     "execution_count": 50,
     "metadata": {},
     "output_type": "execute_result"
    }
   ],
   "source": [
    "from sklearn.model_selection import cross_val_score\n",
    "cross_val_score(model1,X_train,Y_train,cv=8,scoring=None)"
   ]
  },
  {
   "cell_type": "code",
   "execution_count": null,
   "id": "69c0c1e7",
   "metadata": {},
   "outputs": [],
   "source": []
  }
 ],
 "metadata": {
  "kernelspec": {
   "display_name": "Python 3 (ipykernel)",
   "language": "python",
   "name": "python3"
  },
  "language_info": {
   "codemirror_mode": {
    "name": "ipython",
    "version": 3
   },
   "file_extension": ".py",
   "mimetype": "text/x-python",
   "name": "python",
   "nbconvert_exporter": "python",
   "pygments_lexer": "ipython3",
   "version": "3.9.12"
  }
 },
 "nbformat": 4,
 "nbformat_minor": 5
}
