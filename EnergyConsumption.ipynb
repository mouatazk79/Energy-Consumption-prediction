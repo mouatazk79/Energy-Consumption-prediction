{
 "cells": [
  {
   "cell_type": "markdown",
   "id": "8a911a38",
   "metadata": {},
   "source": [
    "# UNIVERSITY DATA ANALYSIS PROJECT\n",
    "This notebook is an end to end project about Hourly Energy Consumption"
   ]
  },
  {
   "cell_type": "code",
   "execution_count": 1,
   "id": "40848a0c",
   "metadata": {},
   "outputs": [],
   "source": [
    "import numpy as np\n",
    "import pandas as pd\n",
    "import matplotlib.pyplot as plt\n",
    "import sklearn \n",
    "import seaborn as sb\n",
    "from sklearn.linear_model  import LinearRegression\n",
    "from sklearn.ensemble      import RandomForestRegressor\n",
    "import glob\n",
    "%matplotlib inline "
   ]
  },
  {
   "cell_type": "markdown",
   "id": "2bcd3212",
   "metadata": {},
   "source": [
    "# DATA\n",
    "this data is a 10 years of hourly energy consumption data from PJM in Megawatts wich we can find it in kaggle in this link https://www.kaggle.com/datasets/robikscube/hourly-energy-consumption# "
   ]
  },
  {
   "cell_type": "code",
   "execution_count": 2,
   "id": "fdfd1c62",
   "metadata": {},
   "outputs": [
    {
     "data": {
      "text/plain": [
       "['data\\\\AEP_hourly.csv',\n",
       " 'data\\\\COMED_hourly.csv',\n",
       " 'data\\\\DAYTON_hourly.csv',\n",
       " 'data\\\\DEOK_hourly.csv',\n",
       " 'data\\\\DOM_hourly.csv',\n",
       " 'data\\\\DUQ_hourly.csv',\n",
       " 'data\\\\EKPC_hourly.csv',\n",
       " 'data\\\\FE_hourly.csv',\n",
       " 'data\\\\NI_hourly.csv',\n",
       " 'data\\\\PJME_hourly.csv',\n",
       " 'data\\\\PJMW_hourly.csv',\n",
       " 'data\\\\PJM_Load_hourly.csv']"
      ]
     },
     "execution_count": 2,
     "metadata": {},
     "output_type": "execute_result"
    }
   ],
   "source": [
    "glob.glob(\"data/*hourly.csv\")"
   ]
  },
  {
   "cell_type": "code",
   "execution_count": 3,
   "id": "c54e348f",
   "metadata": {},
   "outputs": [],
   "source": [
    "aep = pd.read_csv( 'data/AEP_hourly.csv')\n",
    "comed = pd.read_csv( 'data/COMED_hourly.csv')\n",
    "dayton = pd.read_csv( 'data/DAYTON_hourly.csv')\n",
    "deok = pd.read_csv('data/DEOK_hourly.csv')\n",
    "dom = pd.read_csv( 'data/DOM_hourly.csv')\n",
    "duq = pd.read_csv( 'data/DUQ_hourly.csv')\n",
    "ekpc = pd.read_csv( 'data/EKPC_hourly.csv')\n",
    "fe = pd.read_csv( 'data/FE_hourly.csv')\n",
    "ni = pd.read_csv( 'data/NI_hourly.csv')\n",
    "pjm = pd.read_csv( 'data/PJM_Load_hourly.csv')\n",
    "pjme = pd.read_csv( 'data/PJME_hourly.csv')\n",
    "pjmw = pd.read_csv( 'data/PJMW_hourly.csv')"
   ]
  },
  {
   "cell_type": "code",
   "execution_count": 4,
   "id": "8d165dfb",
   "metadata": {},
   "outputs": [],
   "source": [
    "aep['electric_company'] = 'AEP'\n",
    "comed['electric_company'] = 'COMED'\n",
    "dayton['electric_company'] = 'DAYTON'\n",
    "deok['electric_company'] = 'DEOK'\n",
    "dom['electric_company'] = 'DOM'\n",
    "duq['electric_company'] = 'DUQ'\n",
    "ekpc['electric_company'] = 'EKPC'\n",
    "fe['electric_company'] = 'FE'\n",
    "ni['electric_company'] = 'NI'\n",
    "pjm['electric_company'] = 'PJM'\n",
    "pjme['electric_company'] = 'PJME'\n",
    "pjmw['electric_company'] = 'PJMW'"
   ]
  },
  {
   "cell_type": "code",
   "execution_count": 5,
   "id": "9cf78822",
   "metadata": {},
   "outputs": [],
   "source": [
    "aep = aep.rename( columns={'AEP_MW': 'energyconsumption'} )\n",
    "comed = comed.rename( columns={'COMED_MW': 'energyconsumption'} )\n",
    "dayton = dayton.rename( columns={'DAYTON_MW': 'energyconsumption'} )\n",
    "deok = deok.rename( columns={'DEOK_MW': 'energyconsumption'} )\n",
    "dom = dom.rename( columns={'DOM_MW': 'energyconsumption'} )\n",
    "duq = duq.rename( columns={'DUQ_MW': 'energyconsumption'} )\n",
    "ekpc = ekpc.rename( columns={'EKPC_MW': 'energyconsumption'} )\n",
    "fe = fe.rename( columns={'FE_MW': 'energyconsumption'} )\n",
    "ni = ni.rename( columns={'NI_MW': 'energyconsumption'} )\n",
    "pjm = pjm.rename( columns={'PJM_Load_MW': 'energyconsumption'} )\n",
    "pjme = pjme.rename( columns={'PJME_MW': 'energyconsumption'} )\n",
    "pjmw = pjmw.rename( columns={'PJMW_MW': 'energyconsumption'} )"
   ]
  },
  {
   "cell_type": "markdown",
   "id": "353877fb",
   "metadata": {},
   "source": [
    "# concatenation\n",
    "here we gonna concatenate all of our csv files into one file \n"
   ]
  },
  {
   "cell_type": "code",
   "execution_count": 6,
   "id": "6f14e328",
   "metadata": {},
   "outputs": [],
   "source": [
    "total= pd.concat([aep,comed,dayton,deok,dom,duq,ekpc,fe,ni,pjm,pjme,pjmw])\n"
   ]
  },
  {
   "cell_type": "code",
   "execution_count": 7,
   "id": "b88a729b",
   "metadata": {},
   "outputs": [
    {
     "data": {
      "text/plain": [
       "(1090167, 3)"
      ]
     },
     "execution_count": 7,
     "metadata": {},
     "output_type": "execute_result"
    }
   ],
   "source": [
    "total.shape\n"
   ]
  },
  {
   "cell_type": "markdown",
   "id": "a2fa5d7d",
   "metadata": {},
   "source": [
    "# Filtring our data\n",
    "in this section we gonna remove all null or nan or duplicates elemtents"
   ]
  },
  {
   "cell_type": "code",
   "execution_count": 8,
   "id": "db0c2268",
   "metadata": {},
   "outputs": [
    {
     "data": {
      "text/html": [
       "<div>\n",
       "<style scoped>\n",
       "    .dataframe tbody tr th:only-of-type {\n",
       "        vertical-align: middle;\n",
       "    }\n",
       "\n",
       "    .dataframe tbody tr th {\n",
       "        vertical-align: top;\n",
       "    }\n",
       "\n",
       "    .dataframe thead th {\n",
       "        text-align: right;\n",
       "    }\n",
       "</style>\n",
       "<table border=\"1\" class=\"dataframe\">\n",
       "  <thead>\n",
       "    <tr style=\"text-align: right;\">\n",
       "      <th></th>\n",
       "      <th>Datetime</th>\n",
       "      <th>energyconsumption</th>\n",
       "      <th>electric_company</th>\n",
       "    </tr>\n",
       "  </thead>\n",
       "  <tbody>\n",
       "    <tr>\n",
       "      <th>0</th>\n",
       "      <td>2004-12-31 01:00:00</td>\n",
       "      <td>13478.0</td>\n",
       "      <td>AEP</td>\n",
       "    </tr>\n",
       "    <tr>\n",
       "      <th>1</th>\n",
       "      <td>2004-12-31 02:00:00</td>\n",
       "      <td>12865.0</td>\n",
       "      <td>AEP</td>\n",
       "    </tr>\n",
       "    <tr>\n",
       "      <th>2</th>\n",
       "      <td>2004-12-31 03:00:00</td>\n",
       "      <td>12577.0</td>\n",
       "      <td>AEP</td>\n",
       "    </tr>\n",
       "    <tr>\n",
       "      <th>3</th>\n",
       "      <td>2004-12-31 04:00:00</td>\n",
       "      <td>12517.0</td>\n",
       "      <td>AEP</td>\n",
       "    </tr>\n",
       "    <tr>\n",
       "      <th>4</th>\n",
       "      <td>2004-12-31 05:00:00</td>\n",
       "      <td>12670.0</td>\n",
       "      <td>AEP</td>\n",
       "    </tr>\n",
       "    <tr>\n",
       "      <th>...</th>\n",
       "      <td>...</td>\n",
       "      <td>...</td>\n",
       "      <td>...</td>\n",
       "    </tr>\n",
       "    <tr>\n",
       "      <th>143201</th>\n",
       "      <td>2018-01-01 20:00:00</td>\n",
       "      <td>8401.0</td>\n",
       "      <td>PJMW</td>\n",
       "    </tr>\n",
       "    <tr>\n",
       "      <th>143202</th>\n",
       "      <td>2018-01-01 21:00:00</td>\n",
       "      <td>8373.0</td>\n",
       "      <td>PJMW</td>\n",
       "    </tr>\n",
       "    <tr>\n",
       "      <th>143203</th>\n",
       "      <td>2018-01-01 22:00:00</td>\n",
       "      <td>8238.0</td>\n",
       "      <td>PJMW</td>\n",
       "    </tr>\n",
       "    <tr>\n",
       "      <th>143204</th>\n",
       "      <td>2018-01-01 23:00:00</td>\n",
       "      <td>7958.0</td>\n",
       "      <td>PJMW</td>\n",
       "    </tr>\n",
       "    <tr>\n",
       "      <th>143205</th>\n",
       "      <td>2018-01-02 00:00:00</td>\n",
       "      <td>7691.0</td>\n",
       "      <td>PJMW</td>\n",
       "    </tr>\n",
       "  </tbody>\n",
       "</table>\n",
       "<p>1090167 rows × 3 columns</p>\n",
       "</div>"
      ],
      "text/plain": [
       "                   Datetime  energyconsumption electric_company\n",
       "0       2004-12-31 01:00:00            13478.0              AEP\n",
       "1       2004-12-31 02:00:00            12865.0              AEP\n",
       "2       2004-12-31 03:00:00            12577.0              AEP\n",
       "3       2004-12-31 04:00:00            12517.0              AEP\n",
       "4       2004-12-31 05:00:00            12670.0              AEP\n",
       "...                     ...                ...              ...\n",
       "143201  2018-01-01 20:00:00             8401.0             PJMW\n",
       "143202  2018-01-01 21:00:00             8373.0             PJMW\n",
       "143203  2018-01-01 22:00:00             8238.0             PJMW\n",
       "143204  2018-01-01 23:00:00             7958.0             PJMW\n",
       "143205  2018-01-02 00:00:00             7691.0             PJMW\n",
       "\n",
       "[1090167 rows x 3 columns]"
      ]
     },
     "execution_count": 8,
     "metadata": {},
     "output_type": "execute_result"
    }
   ],
   "source": [
    "total.drop_duplicates()"
   ]
  },
  {
   "cell_type": "code",
   "execution_count": 9,
   "id": "f41e1425",
   "metadata": {},
   "outputs": [
    {
     "data": {
      "text/plain": [
       "Datetime             0\n",
       "energyconsumption    0\n",
       "electric_company     0\n",
       "dtype: int64"
      ]
     },
     "execution_count": 9,
     "metadata": {},
     "output_type": "execute_result"
    }
   ],
   "source": [
    "total.isna().sum()"
   ]
  },
  {
   "cell_type": "code",
   "execution_count": 10,
   "id": "71698a0f",
   "metadata": {},
   "outputs": [
    {
     "data": {
      "text/plain": [
       "Index(['Datetime', 'energyconsumption', 'electric_company'], dtype='object')"
      ]
     },
     "execution_count": 10,
     "metadata": {},
     "output_type": "execute_result"
    }
   ],
   "source": [
    "total.columns\n"
   ]
  },
  {
   "cell_type": "code",
   "execution_count": 11,
   "id": "a5b5a5f0",
   "metadata": {},
   "outputs": [
    {
     "data": {
      "text/html": [
       "<div>\n",
       "<style scoped>\n",
       "    .dataframe tbody tr th:only-of-type {\n",
       "        vertical-align: middle;\n",
       "    }\n",
       "\n",
       "    .dataframe tbody tr th {\n",
       "        vertical-align: top;\n",
       "    }\n",
       "\n",
       "    .dataframe thead th {\n",
       "        text-align: right;\n",
       "    }\n",
       "</style>\n",
       "<table border=\"1\" class=\"dataframe\">\n",
       "  <thead>\n",
       "    <tr style=\"text-align: right;\">\n",
       "      <th></th>\n",
       "      <th>Datetime</th>\n",
       "      <th>energyconsumption</th>\n",
       "      <th>electric_company</th>\n",
       "    </tr>\n",
       "  </thead>\n",
       "  <tbody>\n",
       "    <tr>\n",
       "      <th>0</th>\n",
       "      <td>2004-12-31 01:00:00</td>\n",
       "      <td>13478.0</td>\n",
       "      <td>AEP</td>\n",
       "    </tr>\n",
       "    <tr>\n",
       "      <th>1</th>\n",
       "      <td>2004-12-31 02:00:00</td>\n",
       "      <td>12865.0</td>\n",
       "      <td>AEP</td>\n",
       "    </tr>\n",
       "    <tr>\n",
       "      <th>2</th>\n",
       "      <td>2004-12-31 03:00:00</td>\n",
       "      <td>12577.0</td>\n",
       "      <td>AEP</td>\n",
       "    </tr>\n",
       "    <tr>\n",
       "      <th>3</th>\n",
       "      <td>2004-12-31 04:00:00</td>\n",
       "      <td>12517.0</td>\n",
       "      <td>AEP</td>\n",
       "    </tr>\n",
       "    <tr>\n",
       "      <th>4</th>\n",
       "      <td>2004-12-31 05:00:00</td>\n",
       "      <td>12670.0</td>\n",
       "      <td>AEP</td>\n",
       "    </tr>\n",
       "    <tr>\n",
       "      <th>...</th>\n",
       "      <td>...</td>\n",
       "      <td>...</td>\n",
       "      <td>...</td>\n",
       "    </tr>\n",
       "    <tr>\n",
       "      <th>143201</th>\n",
       "      <td>2018-01-01 20:00:00</td>\n",
       "      <td>8401.0</td>\n",
       "      <td>PJMW</td>\n",
       "    </tr>\n",
       "    <tr>\n",
       "      <th>143202</th>\n",
       "      <td>2018-01-01 21:00:00</td>\n",
       "      <td>8373.0</td>\n",
       "      <td>PJMW</td>\n",
       "    </tr>\n",
       "    <tr>\n",
       "      <th>143203</th>\n",
       "      <td>2018-01-01 22:00:00</td>\n",
       "      <td>8238.0</td>\n",
       "      <td>PJMW</td>\n",
       "    </tr>\n",
       "    <tr>\n",
       "      <th>143204</th>\n",
       "      <td>2018-01-01 23:00:00</td>\n",
       "      <td>7958.0</td>\n",
       "      <td>PJMW</td>\n",
       "    </tr>\n",
       "    <tr>\n",
       "      <th>143205</th>\n",
       "      <td>2018-01-02 00:00:00</td>\n",
       "      <td>7691.0</td>\n",
       "      <td>PJMW</td>\n",
       "    </tr>\n",
       "  </tbody>\n",
       "</table>\n",
       "<p>1090167 rows × 3 columns</p>\n",
       "</div>"
      ],
      "text/plain": [
       "                   Datetime  energyconsumption electric_company\n",
       "0       2004-12-31 01:00:00            13478.0              AEP\n",
       "1       2004-12-31 02:00:00            12865.0              AEP\n",
       "2       2004-12-31 03:00:00            12577.0              AEP\n",
       "3       2004-12-31 04:00:00            12517.0              AEP\n",
       "4       2004-12-31 05:00:00            12670.0              AEP\n",
       "...                     ...                ...              ...\n",
       "143201  2018-01-01 20:00:00             8401.0             PJMW\n",
       "143202  2018-01-01 21:00:00             8373.0             PJMW\n",
       "143203  2018-01-01 22:00:00             8238.0             PJMW\n",
       "143204  2018-01-01 23:00:00             7958.0             PJMW\n",
       "143205  2018-01-02 00:00:00             7691.0             PJMW\n",
       "\n",
       "[1090167 rows x 3 columns]"
      ]
     },
     "execution_count": 11,
     "metadata": {},
     "output_type": "execute_result"
    }
   ],
   "source": [
    "total"
   ]
  },
  {
   "cell_type": "markdown",
   "id": "cb029523",
   "metadata": {},
   "source": [
    "# Basic informations of our data"
   ]
  },
  {
   "cell_type": "code",
   "execution_count": 12,
   "id": "73755b92",
   "metadata": {},
   "outputs": [
    {
     "data": {
      "text/html": [
       "<div>\n",
       "<style scoped>\n",
       "    .dataframe tbody tr th:only-of-type {\n",
       "        vertical-align: middle;\n",
       "    }\n",
       "\n",
       "    .dataframe tbody tr th {\n",
       "        vertical-align: top;\n",
       "    }\n",
       "\n",
       "    .dataframe thead th {\n",
       "        text-align: right;\n",
       "    }\n",
       "</style>\n",
       "<table border=\"1\" class=\"dataframe\">\n",
       "  <thead>\n",
       "    <tr style=\"text-align: right;\">\n",
       "      <th></th>\n",
       "      <th>Datetime</th>\n",
       "      <th>energyconsumption</th>\n",
       "      <th>electric_company</th>\n",
       "    </tr>\n",
       "  </thead>\n",
       "  <tbody>\n",
       "    <tr>\n",
       "      <th>count</th>\n",
       "      <td>1090167</td>\n",
       "      <td>1.090167e+06</td>\n",
       "      <td>1090167</td>\n",
       "    </tr>\n",
       "    <tr>\n",
       "      <th>unique</th>\n",
       "      <td>178258</td>\n",
       "      <td>NaN</td>\n",
       "      <td>12</td>\n",
       "    </tr>\n",
       "    <tr>\n",
       "      <th>top</th>\n",
       "      <td>2016-11-06 02:00:00</td>\n",
       "      <td>NaN</td>\n",
       "      <td>PJME</td>\n",
       "    </tr>\n",
       "    <tr>\n",
       "      <th>freq</th>\n",
       "      <td>20</td>\n",
       "      <td>NaN</td>\n",
       "      <td>145366</td>\n",
       "    </tr>\n",
       "    <tr>\n",
       "      <th>mean</th>\n",
       "      <td>NaN</td>\n",
       "      <td>1.120959e+04</td>\n",
       "      <td>NaN</td>\n",
       "    </tr>\n",
       "    <tr>\n",
       "      <th>std</th>\n",
       "      <td>NaN</td>\n",
       "      <td>1.053440e+04</td>\n",
       "      <td>NaN</td>\n",
       "    </tr>\n",
       "    <tr>\n",
       "      <th>min</th>\n",
       "      <td>NaN</td>\n",
       "      <td>0.000000e+00</td>\n",
       "      <td>NaN</td>\n",
       "    </tr>\n",
       "    <tr>\n",
       "      <th>25%</th>\n",
       "      <td>NaN</td>\n",
       "      <td>2.455000e+03</td>\n",
       "      <td>NaN</td>\n",
       "    </tr>\n",
       "    <tr>\n",
       "      <th>50%</th>\n",
       "      <td>NaN</td>\n",
       "      <td>8.217000e+03</td>\n",
       "      <td>NaN</td>\n",
       "    </tr>\n",
       "    <tr>\n",
       "      <th>75%</th>\n",
       "      <td>NaN</td>\n",
       "      <td>1.466500e+04</td>\n",
       "      <td>NaN</td>\n",
       "    </tr>\n",
       "    <tr>\n",
       "      <th>max</th>\n",
       "      <td>NaN</td>\n",
       "      <td>6.200900e+04</td>\n",
       "      <td>NaN</td>\n",
       "    </tr>\n",
       "  </tbody>\n",
       "</table>\n",
       "</div>"
      ],
      "text/plain": [
       "                   Datetime  energyconsumption electric_company\n",
       "count               1090167       1.090167e+06          1090167\n",
       "unique               178258                NaN               12\n",
       "top     2016-11-06 02:00:00                NaN             PJME\n",
       "freq                     20                NaN           145366\n",
       "mean                    NaN       1.120959e+04              NaN\n",
       "std                     NaN       1.053440e+04              NaN\n",
       "min                     NaN       0.000000e+00              NaN\n",
       "25%                     NaN       2.455000e+03              NaN\n",
       "50%                     NaN       8.217000e+03              NaN\n",
       "75%                     NaN       1.466500e+04              NaN\n",
       "max                     NaN       6.200900e+04              NaN"
      ]
     },
     "execution_count": 12,
     "metadata": {},
     "output_type": "execute_result"
    }
   ],
   "source": [
    "total.describe(include = 'all')\n"
   ]
  },
  {
   "cell_type": "code",
   "execution_count": 13,
   "id": "a7a6f53f",
   "metadata": {},
   "outputs": [
    {
     "name": "stdout",
     "output_type": "stream",
     "text": [
      "<class 'pandas.core.frame.DataFrame'>\n",
      "Int64Index: 1090167 entries, 0 to 143205\n",
      "Data columns (total 3 columns):\n",
      " #   Column             Non-Null Count    Dtype  \n",
      "---  ------             --------------    -----  \n",
      " 0   Datetime           1090167 non-null  object \n",
      " 1   energyconsumption  1090167 non-null  float64\n",
      " 2   electric_company   1090167 non-null  object \n",
      "dtypes: float64(1), object(2)\n",
      "memory usage: 33.3+ MB\n"
     ]
    }
   ],
   "source": [
    "total.info()"
   ]
  },
  {
   "cell_type": "code",
   "execution_count": 14,
   "id": "45e3e6cc",
   "metadata": {},
   "outputs": [],
   "source": [
    "newcopy=total.copy()"
   ]
  },
  {
   "cell_type": "code",
   "execution_count": 15,
   "id": "5139a639",
   "metadata": {},
   "outputs": [
    {
     "data": {
      "text/html": [
       "<div>\n",
       "<style scoped>\n",
       "    .dataframe tbody tr th:only-of-type {\n",
       "        vertical-align: middle;\n",
       "    }\n",
       "\n",
       "    .dataframe tbody tr th {\n",
       "        vertical-align: top;\n",
       "    }\n",
       "\n",
       "    .dataframe thead th {\n",
       "        text-align: right;\n",
       "    }\n",
       "</style>\n",
       "<table border=\"1\" class=\"dataframe\">\n",
       "  <thead>\n",
       "    <tr style=\"text-align: right;\">\n",
       "      <th></th>\n",
       "      <th>Datetime</th>\n",
       "      <th>energyconsumption</th>\n",
       "      <th>electric_company</th>\n",
       "    </tr>\n",
       "  </thead>\n",
       "  <tbody>\n",
       "    <tr>\n",
       "      <th>0</th>\n",
       "      <td>2004-12-31 01:00:00</td>\n",
       "      <td>13478.0</td>\n",
       "      <td>AEP</td>\n",
       "    </tr>\n",
       "    <tr>\n",
       "      <th>1</th>\n",
       "      <td>2004-12-31 02:00:00</td>\n",
       "      <td>12865.0</td>\n",
       "      <td>AEP</td>\n",
       "    </tr>\n",
       "    <tr>\n",
       "      <th>2</th>\n",
       "      <td>2004-12-31 03:00:00</td>\n",
       "      <td>12577.0</td>\n",
       "      <td>AEP</td>\n",
       "    </tr>\n",
       "    <tr>\n",
       "      <th>3</th>\n",
       "      <td>2004-12-31 04:00:00</td>\n",
       "      <td>12517.0</td>\n",
       "      <td>AEP</td>\n",
       "    </tr>\n",
       "    <tr>\n",
       "      <th>4</th>\n",
       "      <td>2004-12-31 05:00:00</td>\n",
       "      <td>12670.0</td>\n",
       "      <td>AEP</td>\n",
       "    </tr>\n",
       "    <tr>\n",
       "      <th>...</th>\n",
       "      <td>...</td>\n",
       "      <td>...</td>\n",
       "      <td>...</td>\n",
       "    </tr>\n",
       "    <tr>\n",
       "      <th>143201</th>\n",
       "      <td>2018-01-01 20:00:00</td>\n",
       "      <td>8401.0</td>\n",
       "      <td>PJMW</td>\n",
       "    </tr>\n",
       "    <tr>\n",
       "      <th>143202</th>\n",
       "      <td>2018-01-01 21:00:00</td>\n",
       "      <td>8373.0</td>\n",
       "      <td>PJMW</td>\n",
       "    </tr>\n",
       "    <tr>\n",
       "      <th>143203</th>\n",
       "      <td>2018-01-01 22:00:00</td>\n",
       "      <td>8238.0</td>\n",
       "      <td>PJMW</td>\n",
       "    </tr>\n",
       "    <tr>\n",
       "      <th>143204</th>\n",
       "      <td>2018-01-01 23:00:00</td>\n",
       "      <td>7958.0</td>\n",
       "      <td>PJMW</td>\n",
       "    </tr>\n",
       "    <tr>\n",
       "      <th>143205</th>\n",
       "      <td>2018-01-02 00:00:00</td>\n",
       "      <td>7691.0</td>\n",
       "      <td>PJMW</td>\n",
       "    </tr>\n",
       "  </tbody>\n",
       "</table>\n",
       "<p>1090167 rows × 3 columns</p>\n",
       "</div>"
      ],
      "text/plain": [
       "                   Datetime  energyconsumption electric_company\n",
       "0       2004-12-31 01:00:00            13478.0              AEP\n",
       "1       2004-12-31 02:00:00            12865.0              AEP\n",
       "2       2004-12-31 03:00:00            12577.0              AEP\n",
       "3       2004-12-31 04:00:00            12517.0              AEP\n",
       "4       2004-12-31 05:00:00            12670.0              AEP\n",
       "...                     ...                ...              ...\n",
       "143201  2018-01-01 20:00:00             8401.0             PJMW\n",
       "143202  2018-01-01 21:00:00             8373.0             PJMW\n",
       "143203  2018-01-01 22:00:00             8238.0             PJMW\n",
       "143204  2018-01-01 23:00:00             7958.0             PJMW\n",
       "143205  2018-01-02 00:00:00             7691.0             PJMW\n",
       "\n",
       "[1090167 rows x 3 columns]"
      ]
     },
     "execution_count": 15,
     "metadata": {},
     "output_type": "execute_result"
    }
   ],
   "source": [
    "newcopy"
   ]
  },
  {
   "cell_type": "markdown",
   "id": "b3b01367",
   "metadata": {},
   "source": [
    "# Converting our data\n",
    "here we gonna convert the datetime into numerical values"
   ]
  },
  {
   "cell_type": "code",
   "execution_count": 16,
   "id": "0681cf0c",
   "metadata": {},
   "outputs": [],
   "source": [
    "newcopy['Datetime'] = pd.to_datetime(newcopy['Datetime'])"
   ]
  },
  {
   "cell_type": "code",
   "execution_count": 17,
   "id": "cdbfbcd4",
   "metadata": {},
   "outputs": [
    {
     "name": "stderr",
     "output_type": "stream",
     "text": [
      "C:\\Users\\DELL\\AppData\\Local\\Temp\\ipykernel_13900\\1151875645.py:6: FutureWarning: Series.dt.weekofyear and Series.dt.week have been deprecated. Please use Series.dt.isocalendar().week instead.\n",
      "  newcopy[\"Week\"] = newcopy[\"Datetime\"].dt.week\n"
     ]
    }
   ],
   "source": [
    "newcopy[\"Month\"] = newcopy[\"Datetime\"].dt.month\n",
    "newcopy[\"Year\"] = newcopy[\"Datetime\"].dt.year\n",
    "newcopy[\"Date\"] = newcopy[\"Datetime\"].dt.date\n",
    "newcopy[\"Time\"] = newcopy[\"Datetime\"].dt.time\n",
    "newcopy['hour'] = newcopy['Datetime'].dt.hour\n",
    "newcopy[\"Week\"] = newcopy[\"Datetime\"].dt.week\n",
    "newcopy[\"Day\"] = newcopy[\"Datetime\"].dt.day"
   ]
  },
  {
   "cell_type": "code",
   "execution_count": 18,
   "id": "b027dc4c",
   "metadata": {},
   "outputs": [
    {
     "data": {
      "text/html": [
       "<div>\n",
       "<style scoped>\n",
       "    .dataframe tbody tr th:only-of-type {\n",
       "        vertical-align: middle;\n",
       "    }\n",
       "\n",
       "    .dataframe tbody tr th {\n",
       "        vertical-align: top;\n",
       "    }\n",
       "\n",
       "    .dataframe thead th {\n",
       "        text-align: right;\n",
       "    }\n",
       "</style>\n",
       "<table border=\"1\" class=\"dataframe\">\n",
       "  <thead>\n",
       "    <tr style=\"text-align: right;\">\n",
       "      <th></th>\n",
       "      <th>Datetime</th>\n",
       "      <th>energyconsumption</th>\n",
       "      <th>electric_company</th>\n",
       "      <th>Month</th>\n",
       "      <th>Year</th>\n",
       "      <th>Date</th>\n",
       "      <th>Time</th>\n",
       "      <th>hour</th>\n",
       "      <th>Week</th>\n",
       "      <th>Day</th>\n",
       "    </tr>\n",
       "  </thead>\n",
       "  <tbody>\n",
       "    <tr>\n",
       "      <th>0</th>\n",
       "      <td>2004-12-31 01:00:00</td>\n",
       "      <td>13478.0</td>\n",
       "      <td>AEP</td>\n",
       "      <td>12</td>\n",
       "      <td>2004</td>\n",
       "      <td>2004-12-31</td>\n",
       "      <td>01:00:00</td>\n",
       "      <td>1</td>\n",
       "      <td>53</td>\n",
       "      <td>31</td>\n",
       "    </tr>\n",
       "    <tr>\n",
       "      <th>1</th>\n",
       "      <td>2004-12-31 02:00:00</td>\n",
       "      <td>12865.0</td>\n",
       "      <td>AEP</td>\n",
       "      <td>12</td>\n",
       "      <td>2004</td>\n",
       "      <td>2004-12-31</td>\n",
       "      <td>02:00:00</td>\n",
       "      <td>2</td>\n",
       "      <td>53</td>\n",
       "      <td>31</td>\n",
       "    </tr>\n",
       "    <tr>\n",
       "      <th>2</th>\n",
       "      <td>2004-12-31 03:00:00</td>\n",
       "      <td>12577.0</td>\n",
       "      <td>AEP</td>\n",
       "      <td>12</td>\n",
       "      <td>2004</td>\n",
       "      <td>2004-12-31</td>\n",
       "      <td>03:00:00</td>\n",
       "      <td>3</td>\n",
       "      <td>53</td>\n",
       "      <td>31</td>\n",
       "    </tr>\n",
       "    <tr>\n",
       "      <th>3</th>\n",
       "      <td>2004-12-31 04:00:00</td>\n",
       "      <td>12517.0</td>\n",
       "      <td>AEP</td>\n",
       "      <td>12</td>\n",
       "      <td>2004</td>\n",
       "      <td>2004-12-31</td>\n",
       "      <td>04:00:00</td>\n",
       "      <td>4</td>\n",
       "      <td>53</td>\n",
       "      <td>31</td>\n",
       "    </tr>\n",
       "    <tr>\n",
       "      <th>4</th>\n",
       "      <td>2004-12-31 05:00:00</td>\n",
       "      <td>12670.0</td>\n",
       "      <td>AEP</td>\n",
       "      <td>12</td>\n",
       "      <td>2004</td>\n",
       "      <td>2004-12-31</td>\n",
       "      <td>05:00:00</td>\n",
       "      <td>5</td>\n",
       "      <td>53</td>\n",
       "      <td>31</td>\n",
       "    </tr>\n",
       "    <tr>\n",
       "      <th>...</th>\n",
       "      <td>...</td>\n",
       "      <td>...</td>\n",
       "      <td>...</td>\n",
       "      <td>...</td>\n",
       "      <td>...</td>\n",
       "      <td>...</td>\n",
       "      <td>...</td>\n",
       "      <td>...</td>\n",
       "      <td>...</td>\n",
       "      <td>...</td>\n",
       "    </tr>\n",
       "    <tr>\n",
       "      <th>143201</th>\n",
       "      <td>2018-01-01 20:00:00</td>\n",
       "      <td>8401.0</td>\n",
       "      <td>PJMW</td>\n",
       "      <td>1</td>\n",
       "      <td>2018</td>\n",
       "      <td>2018-01-01</td>\n",
       "      <td>20:00:00</td>\n",
       "      <td>20</td>\n",
       "      <td>1</td>\n",
       "      <td>1</td>\n",
       "    </tr>\n",
       "    <tr>\n",
       "      <th>143202</th>\n",
       "      <td>2018-01-01 21:00:00</td>\n",
       "      <td>8373.0</td>\n",
       "      <td>PJMW</td>\n",
       "      <td>1</td>\n",
       "      <td>2018</td>\n",
       "      <td>2018-01-01</td>\n",
       "      <td>21:00:00</td>\n",
       "      <td>21</td>\n",
       "      <td>1</td>\n",
       "      <td>1</td>\n",
       "    </tr>\n",
       "    <tr>\n",
       "      <th>143203</th>\n",
       "      <td>2018-01-01 22:00:00</td>\n",
       "      <td>8238.0</td>\n",
       "      <td>PJMW</td>\n",
       "      <td>1</td>\n",
       "      <td>2018</td>\n",
       "      <td>2018-01-01</td>\n",
       "      <td>22:00:00</td>\n",
       "      <td>22</td>\n",
       "      <td>1</td>\n",
       "      <td>1</td>\n",
       "    </tr>\n",
       "    <tr>\n",
       "      <th>143204</th>\n",
       "      <td>2018-01-01 23:00:00</td>\n",
       "      <td>7958.0</td>\n",
       "      <td>PJMW</td>\n",
       "      <td>1</td>\n",
       "      <td>2018</td>\n",
       "      <td>2018-01-01</td>\n",
       "      <td>23:00:00</td>\n",
       "      <td>23</td>\n",
       "      <td>1</td>\n",
       "      <td>1</td>\n",
       "    </tr>\n",
       "    <tr>\n",
       "      <th>143205</th>\n",
       "      <td>2018-01-02 00:00:00</td>\n",
       "      <td>7691.0</td>\n",
       "      <td>PJMW</td>\n",
       "      <td>1</td>\n",
       "      <td>2018</td>\n",
       "      <td>2018-01-02</td>\n",
       "      <td>00:00:00</td>\n",
       "      <td>0</td>\n",
       "      <td>1</td>\n",
       "      <td>2</td>\n",
       "    </tr>\n",
       "  </tbody>\n",
       "</table>\n",
       "<p>1090167 rows × 10 columns</p>\n",
       "</div>"
      ],
      "text/plain": [
       "                  Datetime  energyconsumption electric_company  Month  Year  \\\n",
       "0      2004-12-31 01:00:00            13478.0              AEP     12  2004   \n",
       "1      2004-12-31 02:00:00            12865.0              AEP     12  2004   \n",
       "2      2004-12-31 03:00:00            12577.0              AEP     12  2004   \n",
       "3      2004-12-31 04:00:00            12517.0              AEP     12  2004   \n",
       "4      2004-12-31 05:00:00            12670.0              AEP     12  2004   \n",
       "...                    ...                ...              ...    ...   ...   \n",
       "143201 2018-01-01 20:00:00             8401.0             PJMW      1  2018   \n",
       "143202 2018-01-01 21:00:00             8373.0             PJMW      1  2018   \n",
       "143203 2018-01-01 22:00:00             8238.0             PJMW      1  2018   \n",
       "143204 2018-01-01 23:00:00             7958.0             PJMW      1  2018   \n",
       "143205 2018-01-02 00:00:00             7691.0             PJMW      1  2018   \n",
       "\n",
       "              Date      Time  hour  Week  Day  \n",
       "0       2004-12-31  01:00:00     1    53   31  \n",
       "1       2004-12-31  02:00:00     2    53   31  \n",
       "2       2004-12-31  03:00:00     3    53   31  \n",
       "3       2004-12-31  04:00:00     4    53   31  \n",
       "4       2004-12-31  05:00:00     5    53   31  \n",
       "...            ...       ...   ...   ...  ...  \n",
       "143201  2018-01-01  20:00:00    20     1    1  \n",
       "143202  2018-01-01  21:00:00    21     1    1  \n",
       "143203  2018-01-01  22:00:00    22     1    1  \n",
       "143204  2018-01-01  23:00:00    23     1    1  \n",
       "143205  2018-01-02  00:00:00     0     1    2  \n",
       "\n",
       "[1090167 rows x 10 columns]"
      ]
     },
     "execution_count": 18,
     "metadata": {},
     "output_type": "execute_result"
    }
   ],
   "source": [
    "newcopy"
   ]
  },
  {
   "cell_type": "code",
   "execution_count": 19,
   "id": "bdaa8c9b",
   "metadata": {},
   "outputs": [
    {
     "name": "stdout",
     "output_type": "stream",
     "text": [
      "<class 'pandas.core.frame.DataFrame'>\n",
      "Int64Index: 1090167 entries, 0 to 143205\n",
      "Data columns (total 10 columns):\n",
      " #   Column             Non-Null Count    Dtype         \n",
      "---  ------             --------------    -----         \n",
      " 0   Datetime           1090167 non-null  datetime64[ns]\n",
      " 1   energyconsumption  1090167 non-null  float64       \n",
      " 2   electric_company   1090167 non-null  object        \n",
      " 3   Month              1090167 non-null  int64         \n",
      " 4   Year               1090167 non-null  int64         \n",
      " 5   Date               1090167 non-null  object        \n",
      " 6   Time               1090167 non-null  object        \n",
      " 7   hour               1090167 non-null  int64         \n",
      " 8   Week               1090167 non-null  int64         \n",
      " 9   Day                1090167 non-null  int64         \n",
      "dtypes: datetime64[ns](1), float64(1), int64(5), object(3)\n",
      "memory usage: 91.5+ MB\n"
     ]
    }
   ],
   "source": [
    "newcopy.info()"
   ]
  },
  {
   "cell_type": "code",
   "execution_count": 20,
   "id": "4746ea68",
   "metadata": {},
   "outputs": [],
   "source": [
    "x=newcopy['energyconsumption']\n",
    "y=newcopy['Year']\n"
   ]
  },
  {
   "cell_type": "markdown",
   "id": "d43a8149",
   "metadata": {},
   "source": [
    "as we can see in here PJME and PJMW are the more companies that consumes energy in this years"
   ]
  },
  {
   "cell_type": "code",
   "execution_count": 21,
   "id": "375742cc",
   "metadata": {},
   "outputs": [
    {
     "data": {
      "text/plain": [
       "PJME      145366\n",
       "PJMW      143206\n",
       "DAYTON    121275\n",
       "AEP       121273\n",
       "DUQ       119068\n",
       "DOM       116189\n",
       "COMED      66497\n",
       "FE         62874\n",
       "NI         58450\n",
       "DEOK       57739\n",
       "EKPC       45334\n",
       "PJM        32896\n",
       "Name: electric_company, dtype: int64"
      ]
     },
     "execution_count": 21,
     "metadata": {},
     "output_type": "execute_result"
    },
    {
     "data": {
      "image/png": "[encoded data removed]",
      "text/plain": [
       "<Figure size 432x288 with 1 Axes>"
      ]
     },
     "metadata": {
      "needs_background": "light"
     },
     "output_type": "display_data"
    }
   ],
   "source": [
    "sb.countplot(x=\"electric_company\", data=newcopy)\n",
    "newcopy.loc[:,'electric_company'].value_counts()"
   ]
  },
  {
   "cell_type": "markdown",
   "id": "463190d7",
   "metadata": {},
   "source": [
    "# the energy consumption is high during the working time and after it, but its lower during the night"
   ]
  },
  {
   "cell_type": "code",
   "execution_count": 22,
   "id": "4f57e5b2",
   "metadata": {},
   "outputs": [
    {
     "data": {
      "text/plain": [
       "<AxesSubplot:xlabel='hour', ylabel='energyconsumption'>"
      ]
     },
     "execution_count": 22,
     "metadata": {},
     "output_type": "execute_result"
    },
    {
     "data": {
      "image/png": "[encoded data removed]",
      "text/plain": [
       "<Figure size 432x288 with 1 Axes>"
      ]
     },
     "metadata": {
      "needs_background": "light"
     },
     "output_type": "display_data"
    }
   ],
   "source": [
    "aux1 = newcopy[['hour', 'energyconsumption']].groupby( 'hour' ).sum().reset_index()\n",
    "sb.barplot( x='hour', y='energyconsumption', data=aux1)"
   ]
  },
  {
   "cell_type": "markdown",
   "id": "e256cca4",
   "metadata": {},
   "source": [
    "# the energy consumption is high during the summer and the winter"
   ]
  },
  {
   "cell_type": "code",
   "execution_count": 23,
   "id": "08e861dc",
   "metadata": {},
   "outputs": [
    {
     "data": {
      "text/plain": [
       "<AxesSubplot:xlabel='Month', ylabel='energyconsumption'>"
      ]
     },
     "execution_count": 23,
     "metadata": {},
     "output_type": "execute_result"
    },
    {
     "data": {
      "image/png": "[encoded data removed]",
      "text/plain": [
       "<Figure size 432x288 with 1 Axes>"
      ]
     },
     "metadata": {
      "needs_background": "light"
     },
     "output_type": "display_data"
    }
   ],
   "source": [
    "aux1 = newcopy[['Month', 'energyconsumption']].groupby( 'Month' ).sum().reset_index()\n",
    "sb.barplot( x='Month', y='energyconsumption', data=aux1)"
   ]
  },
  {
   "cell_type": "code",
   "execution_count": 24,
   "id": "5e3f97d3",
   "metadata": {},
   "outputs": [
    {
     "name": "stdout",
     "output_type": "stream",
     "text": [
      "<class 'pandas.core.frame.DataFrame'>\n",
      "Int64Index: 1090167 entries, 0 to 143205\n",
      "Data columns (total 10 columns):\n",
      " #   Column             Non-Null Count    Dtype         \n",
      "---  ------             --------------    -----         \n",
      " 0   Datetime           1090167 non-null  datetime64[ns]\n",
      " 1   energyconsumption  1090167 non-null  float64       \n",
      " 2   electric_company   1090167 non-null  object        \n",
      " 3   Month              1090167 non-null  int64         \n",
      " 4   Year               1090167 non-null  int64         \n",
      " 5   Date               1090167 non-null  object        \n",
      " 6   Time               1090167 non-null  object        \n",
      " 7   hour               1090167 non-null  int64         \n",
      " 8   Week               1090167 non-null  int64         \n",
      " 9   Day                1090167 non-null  int64         \n",
      "dtypes: datetime64[ns](1), float64(1), int64(5), object(3)\n",
      "memory usage: 91.5+ MB\n"
     ]
    }
   ],
   "source": [
    "newcopy.info()"
   ]
  },
  {
   "cell_type": "code",
   "execution_count": 25,
   "id": "83d5f81c",
   "metadata": {},
   "outputs": [],
   "source": [
    "newcopy_1=newcopy.copy()"
   ]
  },
  {
   "cell_type": "code",
   "execution_count": 26,
   "id": "49985264",
   "metadata": {},
   "outputs": [],
   "source": [
    "newcopy_1.drop([\"Datetime\",\"Date\",\"Time\"],axis=1,inplace=True)"
   ]
  },
  {
   "cell_type": "code",
   "execution_count": 27,
   "id": "ab3f9ebd",
   "metadata": {},
   "outputs": [
    {
     "data": {
      "text/plain": [
       "energyconsumption    float64\n",
       "electric_company      object\n",
       "Month                  int64\n",
       "Year                   int64\n",
       "hour                   int64\n",
       "Week                   int64\n",
       "Day                    int64\n",
       "dtype: object"
      ]
     },
     "execution_count": 27,
     "metadata": {},
     "output_type": "execute_result"
    }
   ],
   "source": [
    "newcopy_1.dtypes"
   ]
  },
  {
   "cell_type": "code",
   "execution_count": 28,
   "id": "298e0dbd",
   "metadata": {},
   "outputs": [
    {
     "data": {
      "text/plain": [
       "array(['AEP', 'COMED', 'DAYTON', 'DEOK', 'DOM', 'DUQ', 'EKPC', 'FE', 'NI',\n",
       "       'PJM', 'PJME', 'PJMW'], dtype=object)"
      ]
     },
     "execution_count": 28,
     "metadata": {},
     "output_type": "execute_result"
    }
   ],
   "source": [
    "newcopy_1[\"electric_company\"].unique()"
   ]
  },
  {
   "cell_type": "markdown",
   "id": "a3299829",
   "metadata": {},
   "source": [
    "# we gonna encode our data "
   ]
  },
  {
   "cell_type": "code",
   "execution_count": 29,
   "id": "ce4cac41",
   "metadata": {},
   "outputs": [],
   "source": [
    "from sklearn.preprocessing import LabelEncoder\n",
    "labelencoder = LabelEncoder()\n",
    "newcopy_1[\"electric_company\"]=labelencoder.fit_transform(newcopy_1['electric_company'])"
   ]
  },
  {
   "cell_type": "code",
   "execution_count": 30,
   "id": "f4b19850",
   "metadata": {},
   "outputs": [
    {
     "data": {
      "text/html": [
       "<div>\n",
       "<style scoped>\n",
       "    .dataframe tbody tr th:only-of-type {\n",
       "        vertical-align: middle;\n",
       "    }\n",
       "\n",
       "    .dataframe tbody tr th {\n",
       "        vertical-align: top;\n",
       "    }\n",
       "\n",
       "    .dataframe thead th {\n",
       "        text-align: right;\n",
       "    }\n",
       "</style>\n",
       "<table border=\"1\" class=\"dataframe\">\n",
       "  <thead>\n",
       "    <tr style=\"text-align: right;\">\n",
       "      <th></th>\n",
       "      <th>energyconsumption</th>\n",
       "      <th>electric_company</th>\n",
       "      <th>Month</th>\n",
       "      <th>Year</th>\n",
       "      <th>hour</th>\n",
       "      <th>Week</th>\n",
       "      <th>Day</th>\n",
       "    </tr>\n",
       "  </thead>\n",
       "  <tbody>\n",
       "    <tr>\n",
       "      <th>0</th>\n",
       "      <td>13478.0</td>\n",
       "      <td>0</td>\n",
       "      <td>12</td>\n",
       "      <td>2004</td>\n",
       "      <td>1</td>\n",
       "      <td>53</td>\n",
       "      <td>31</td>\n",
       "    </tr>\n",
       "    <tr>\n",
       "      <th>1</th>\n",
       "      <td>12865.0</td>\n",
       "      <td>0</td>\n",
       "      <td>12</td>\n",
       "      <td>2004</td>\n",
       "      <td>2</td>\n",
       "      <td>53</td>\n",
       "      <td>31</td>\n",
       "    </tr>\n",
       "    <tr>\n",
       "      <th>2</th>\n",
       "      <td>12577.0</td>\n",
       "      <td>0</td>\n",
       "      <td>12</td>\n",
       "      <td>2004</td>\n",
       "      <td>3</td>\n",
       "      <td>53</td>\n",
       "      <td>31</td>\n",
       "    </tr>\n",
       "    <tr>\n",
       "      <th>3</th>\n",
       "      <td>12517.0</td>\n",
       "      <td>0</td>\n",
       "      <td>12</td>\n",
       "      <td>2004</td>\n",
       "      <td>4</td>\n",
       "      <td>53</td>\n",
       "      <td>31</td>\n",
       "    </tr>\n",
       "    <tr>\n",
       "      <th>4</th>\n",
       "      <td>12670.0</td>\n",
       "      <td>0</td>\n",
       "      <td>12</td>\n",
       "      <td>2004</td>\n",
       "      <td>5</td>\n",
       "      <td>53</td>\n",
       "      <td>31</td>\n",
       "    </tr>\n",
       "    <tr>\n",
       "      <th>...</th>\n",
       "      <td>...</td>\n",
       "      <td>...</td>\n",
       "      <td>...</td>\n",
       "      <td>...</td>\n",
       "      <td>...</td>\n",
       "      <td>...</td>\n",
       "      <td>...</td>\n",
       "    </tr>\n",
       "    <tr>\n",
       "      <th>143201</th>\n",
       "      <td>8401.0</td>\n",
       "      <td>11</td>\n",
       "      <td>1</td>\n",
       "      <td>2018</td>\n",
       "      <td>20</td>\n",
       "      <td>1</td>\n",
       "      <td>1</td>\n",
       "    </tr>\n",
       "    <tr>\n",
       "      <th>143202</th>\n",
       "      <td>8373.0</td>\n",
       "      <td>11</td>\n",
       "      <td>1</td>\n",
       "      <td>2018</td>\n",
       "      <td>21</td>\n",
       "      <td>1</td>\n",
       "      <td>1</td>\n",
       "    </tr>\n",
       "    <tr>\n",
       "      <th>143203</th>\n",
       "      <td>8238.0</td>\n",
       "      <td>11</td>\n",
       "      <td>1</td>\n",
       "      <td>2018</td>\n",
       "      <td>22</td>\n",
       "      <td>1</td>\n",
       "      <td>1</td>\n",
       "    </tr>\n",
       "    <tr>\n",
       "      <th>143204</th>\n",
       "      <td>7958.0</td>\n",
       "      <td>11</td>\n",
       "      <td>1</td>\n",
       "      <td>2018</td>\n",
       "      <td>23</td>\n",
       "      <td>1</td>\n",
       "      <td>1</td>\n",
       "    </tr>\n",
       "    <tr>\n",
       "      <th>143205</th>\n",
       "      <td>7691.0</td>\n",
       "      <td>11</td>\n",
       "      <td>1</td>\n",
       "      <td>2018</td>\n",
       "      <td>0</td>\n",
       "      <td>1</td>\n",
       "      <td>2</td>\n",
       "    </tr>\n",
       "  </tbody>\n",
       "</table>\n",
       "<p>1090167 rows × 7 columns</p>\n",
       "</div>"
      ],
      "text/plain": [
       "        energyconsumption  electric_company  Month  Year  hour  Week  Day\n",
       "0                 13478.0                 0     12  2004     1    53   31\n",
       "1                 12865.0                 0     12  2004     2    53   31\n",
       "2                 12577.0                 0     12  2004     3    53   31\n",
       "3                 12517.0                 0     12  2004     4    53   31\n",
       "4                 12670.0                 0     12  2004     5    53   31\n",
       "...                   ...               ...    ...   ...   ...   ...  ...\n",
       "143201             8401.0                11      1  2018    20     1    1\n",
       "143202             8373.0                11      1  2018    21     1    1\n",
       "143203             8238.0                11      1  2018    22     1    1\n",
       "143204             7958.0                11      1  2018    23     1    1\n",
       "143205             7691.0                11      1  2018     0     1    2\n",
       "\n",
       "[1090167 rows x 7 columns]"
      ]
     },
     "execution_count": 30,
     "metadata": {},
     "output_type": "execute_result"
    }
   ],
   "source": [
    "newcopy_1"
   ]
  },
  {
   "cell_type": "code",
   "execution_count": 31,
   "id": "84450f3f",
   "metadata": {},
   "outputs": [
    {
     "data": {
      "text/plain": [
       "energyconsumption    float64\n",
       "electric_company       int32\n",
       "Month                  int64\n",
       "Year                   int64\n",
       "hour                   int64\n",
       "Week                   int64\n",
       "Day                    int64\n",
       "dtype: object"
      ]
     },
     "execution_count": 31,
     "metadata": {},
     "output_type": "execute_result"
    }
   ],
   "source": [
    "newcopy_1.dtypes"
   ]
  },
  {
   "cell_type": "markdown",
   "id": "3e6c0246",
   "metadata": {},
   "source": [
    "# Spliting our data for training and test"
   ]
  },
  {
   "cell_type": "code",
   "execution_count": 32,
   "id": "fb5c2a76",
   "metadata": {},
   "outputs": [
    {
     "data": {
      "text/html": [
       "<div>\n",
       "<style scoped>\n",
       "    .dataframe tbody tr th:only-of-type {\n",
       "        vertical-align: middle;\n",
       "    }\n",
       "\n",
       "    .dataframe tbody tr th {\n",
       "        vertical-align: top;\n",
       "    }\n",
       "\n",
       "    .dataframe thead th {\n",
       "        text-align: right;\n",
       "    }\n",
       "</style>\n",
       "<table border=\"1\" class=\"dataframe\">\n",
       "  <thead>\n",
       "    <tr style=\"text-align: right;\">\n",
       "      <th></th>\n",
       "      <th>electric_company</th>\n",
       "      <th>Month</th>\n",
       "      <th>Year</th>\n",
       "      <th>hour</th>\n",
       "      <th>Week</th>\n",
       "      <th>Day</th>\n",
       "    </tr>\n",
       "  </thead>\n",
       "  <tbody>\n",
       "    <tr>\n",
       "      <th>0</th>\n",
       "      <td>0</td>\n",
       "      <td>12</td>\n",
       "      <td>2004</td>\n",
       "      <td>1</td>\n",
       "      <td>53</td>\n",
       "      <td>31</td>\n",
       "    </tr>\n",
       "    <tr>\n",
       "      <th>1</th>\n",
       "      <td>0</td>\n",
       "      <td>12</td>\n",
       "      <td>2004</td>\n",
       "      <td>2</td>\n",
       "      <td>53</td>\n",
       "      <td>31</td>\n",
       "    </tr>\n",
       "    <tr>\n",
       "      <th>2</th>\n",
       "      <td>0</td>\n",
       "      <td>12</td>\n",
       "      <td>2004</td>\n",
       "      <td>3</td>\n",
       "      <td>53</td>\n",
       "      <td>31</td>\n",
       "    </tr>\n",
       "    <tr>\n",
       "      <th>3</th>\n",
       "      <td>0</td>\n",
       "      <td>12</td>\n",
       "      <td>2004</td>\n",
       "      <td>4</td>\n",
       "      <td>53</td>\n",
       "      <td>31</td>\n",
       "    </tr>\n",
       "    <tr>\n",
       "      <th>4</th>\n",
       "      <td>0</td>\n",
       "      <td>12</td>\n",
       "      <td>2004</td>\n",
       "      <td>5</td>\n",
       "      <td>53</td>\n",
       "      <td>31</td>\n",
       "    </tr>\n",
       "    <tr>\n",
       "      <th>...</th>\n",
       "      <td>...</td>\n",
       "      <td>...</td>\n",
       "      <td>...</td>\n",
       "      <td>...</td>\n",
       "      <td>...</td>\n",
       "      <td>...</td>\n",
       "    </tr>\n",
       "    <tr>\n",
       "      <th>143201</th>\n",
       "      <td>11</td>\n",
       "      <td>1</td>\n",
       "      <td>2018</td>\n",
       "      <td>20</td>\n",
       "      <td>1</td>\n",
       "      <td>1</td>\n",
       "    </tr>\n",
       "    <tr>\n",
       "      <th>143202</th>\n",
       "      <td>11</td>\n",
       "      <td>1</td>\n",
       "      <td>2018</td>\n",
       "      <td>21</td>\n",
       "      <td>1</td>\n",
       "      <td>1</td>\n",
       "    </tr>\n",
       "    <tr>\n",
       "      <th>143203</th>\n",
       "      <td>11</td>\n",
       "      <td>1</td>\n",
       "      <td>2018</td>\n",
       "      <td>22</td>\n",
       "      <td>1</td>\n",
       "      <td>1</td>\n",
       "    </tr>\n",
       "    <tr>\n",
       "      <th>143204</th>\n",
       "      <td>11</td>\n",
       "      <td>1</td>\n",
       "      <td>2018</td>\n",
       "      <td>23</td>\n",
       "      <td>1</td>\n",
       "      <td>1</td>\n",
       "    </tr>\n",
       "    <tr>\n",
       "      <th>143205</th>\n",
       "      <td>11</td>\n",
       "      <td>1</td>\n",
       "      <td>2018</td>\n",
       "      <td>0</td>\n",
       "      <td>1</td>\n",
       "      <td>2</td>\n",
       "    </tr>\n",
       "  </tbody>\n",
       "</table>\n",
       "<p>1090167 rows × 6 columns</p>\n",
       "</div>"
      ],
      "text/plain": [
       "        electric_company  Month  Year  hour  Week  Day\n",
       "0                      0     12  2004     1    53   31\n",
       "1                      0     12  2004     2    53   31\n",
       "2                      0     12  2004     3    53   31\n",
       "3                      0     12  2004     4    53   31\n",
       "4                      0     12  2004     5    53   31\n",
       "...                  ...    ...   ...   ...   ...  ...\n",
       "143201                11      1  2018    20     1    1\n",
       "143202                11      1  2018    21     1    1\n",
       "143203                11      1  2018    22     1    1\n",
       "143204                11      1  2018    23     1    1\n",
       "143205                11      1  2018     0     1    2\n",
       "\n",
       "[1090167 rows x 6 columns]"
      ]
     },
     "execution_count": 32,
     "metadata": {},
     "output_type": "execute_result"
    }
   ],
   "source": [
    "features=newcopy_1.drop(\"energyconsumption\",axis=1)\n",
    "label=newcopy_1[\"energyconsumption\"]\n",
    "features"
   ]
  },
  {
   "cell_type": "code",
   "execution_count": 33,
   "id": "42777df1",
   "metadata": {},
   "outputs": [
    {
     "data": {
      "text/plain": [
       "0         13478.0\n",
       "1         12865.0\n",
       "2         12577.0\n",
       "3         12517.0\n",
       "4         12670.0\n",
       "           ...   \n",
       "143201     8401.0\n",
       "143202     8373.0\n",
       "143203     8238.0\n",
       "143204     7958.0\n",
       "143205     7691.0\n",
       "Name: energyconsumption, Length: 1090167, dtype: float64"
      ]
     },
     "execution_count": 33,
     "metadata": {},
     "output_type": "execute_result"
    }
   ],
   "source": [
    "label"
   ]
  },
  {
   "cell_type": "code",
   "execution_count": 34,
   "id": "52286c65",
   "metadata": {},
   "outputs": [],
   "source": [
    "from sklearn.model_selection import train_test_split\n",
    "X_train,X_test,Y_train,Y_test=train_test_split(features,label,test_size=0.2)"
   ]
  },
  {
   "cell_type": "markdown",
   "id": "67e88076",
   "metadata": {},
   "source": [
    "# Modeling\n",
    "here we gonna create a model then we gonna train it "
   ]
  },
  {
   "cell_type": "code",
   "execution_count": 35,
   "id": "9a672ea2",
   "metadata": {},
   "outputs": [],
   "source": [
    "from sklearn.ensemble import RandomForestRegressor\n",
    "moel= RandomForestRegressor(n_jobs= -1)"
   ]
  },
  {
   "cell_type": "code",
   "execution_count": 36,
   "id": "397b47d7",
   "metadata": {},
   "outputs": [
    {
     "data": {
      "text/plain": [
       "RandomForestRegressor(n_jobs=-1)"
      ]
     },
     "execution_count": 36,
     "metadata": {},
     "output_type": "execute_result"
    }
   ],
   "source": [
    "moel.fit(X_train,Y_train)"
   ]
  },
  {
   "cell_type": "code",
   "execution_count": 37,
   "id": "1543a0ae",
   "metadata": {},
   "outputs": [
    {
     "data": {
      "text/plain": [
       "0.9956795476036117"
      ]
     },
     "execution_count": 37,
     "metadata": {},
     "output_type": "execute_result"
    }
   ],
   "source": [
    "moel.score(X_test,Y_test)"
   ]
  },
  {
   "cell_type": "code",
   "execution_count": 38,
   "id": "b3bc4825",
   "metadata": {},
   "outputs": [
    {
     "data": {
      "text/plain": [
       "dtype('float64')"
      ]
     },
     "execution_count": 38,
     "metadata": {},
     "output_type": "execute_result"
    }
   ],
   "source": [
    "label.dtype"
   ]
  },
  {
   "cell_type": "markdown",
   "id": "c4c09f52",
   "metadata": {},
   "source": [
    "# DATA normalization \n",
    "we gonna reduce our data values to be between o and 1"
   ]
  },
  {
   "cell_type": "code",
   "execution_count": 39,
   "id": "6ae15895",
   "metadata": {},
   "outputs": [
    {
     "data": {
      "text/html": [
       "<div>\n",
       "<style scoped>\n",
       "    .dataframe tbody tr th:only-of-type {\n",
       "        vertical-align: middle;\n",
       "    }\n",
       "\n",
       "    .dataframe tbody tr th {\n",
       "        vertical-align: top;\n",
       "    }\n",
       "\n",
       "    .dataframe thead th {\n",
       "        text-align: right;\n",
       "    }\n",
       "</style>\n",
       "<table border=\"1\" class=\"dataframe\">\n",
       "  <thead>\n",
       "    <tr style=\"text-align: right;\">\n",
       "      <th></th>\n",
       "      <th>0</th>\n",
       "      <th>1</th>\n",
       "      <th>2</th>\n",
       "      <th>3</th>\n",
       "      <th>4</th>\n",
       "      <th>5</th>\n",
       "    </tr>\n",
       "  </thead>\n",
       "  <tbody>\n",
       "    <tr>\n",
       "      <th>0</th>\n",
       "      <td>0.0</td>\n",
       "      <td>1.0</td>\n",
       "      <td>0.3</td>\n",
       "      <td>0.043478</td>\n",
       "      <td>1.0</td>\n",
       "      <td>1.000000</td>\n",
       "    </tr>\n",
       "    <tr>\n",
       "      <th>1</th>\n",
       "      <td>0.0</td>\n",
       "      <td>1.0</td>\n",
       "      <td>0.3</td>\n",
       "      <td>0.086957</td>\n",
       "      <td>1.0</td>\n",
       "      <td>1.000000</td>\n",
       "    </tr>\n",
       "    <tr>\n",
       "      <th>2</th>\n",
       "      <td>0.0</td>\n",
       "      <td>1.0</td>\n",
       "      <td>0.3</td>\n",
       "      <td>0.130435</td>\n",
       "      <td>1.0</td>\n",
       "      <td>1.000000</td>\n",
       "    </tr>\n",
       "    <tr>\n",
       "      <th>3</th>\n",
       "      <td>0.0</td>\n",
       "      <td>1.0</td>\n",
       "      <td>0.3</td>\n",
       "      <td>0.173913</td>\n",
       "      <td>1.0</td>\n",
       "      <td>1.000000</td>\n",
       "    </tr>\n",
       "    <tr>\n",
       "      <th>4</th>\n",
       "      <td>0.0</td>\n",
       "      <td>1.0</td>\n",
       "      <td>0.3</td>\n",
       "      <td>0.217391</td>\n",
       "      <td>1.0</td>\n",
       "      <td>1.000000</td>\n",
       "    </tr>\n",
       "    <tr>\n",
       "      <th>...</th>\n",
       "      <td>...</td>\n",
       "      <td>...</td>\n",
       "      <td>...</td>\n",
       "      <td>...</td>\n",
       "      <td>...</td>\n",
       "      <td>...</td>\n",
       "    </tr>\n",
       "    <tr>\n",
       "      <th>1090162</th>\n",
       "      <td>1.0</td>\n",
       "      <td>0.0</td>\n",
       "      <td>1.0</td>\n",
       "      <td>0.869565</td>\n",
       "      <td>0.0</td>\n",
       "      <td>0.000000</td>\n",
       "    </tr>\n",
       "    <tr>\n",
       "      <th>1090163</th>\n",
       "      <td>1.0</td>\n",
       "      <td>0.0</td>\n",
       "      <td>1.0</td>\n",
       "      <td>0.913043</td>\n",
       "      <td>0.0</td>\n",
       "      <td>0.000000</td>\n",
       "    </tr>\n",
       "    <tr>\n",
       "      <th>1090164</th>\n",
       "      <td>1.0</td>\n",
       "      <td>0.0</td>\n",
       "      <td>1.0</td>\n",
       "      <td>0.956522</td>\n",
       "      <td>0.0</td>\n",
       "      <td>0.000000</td>\n",
       "    </tr>\n",
       "    <tr>\n",
       "      <th>1090165</th>\n",
       "      <td>1.0</td>\n",
       "      <td>0.0</td>\n",
       "      <td>1.0</td>\n",
       "      <td>1.000000</td>\n",
       "      <td>0.0</td>\n",
       "      <td>0.000000</td>\n",
       "    </tr>\n",
       "    <tr>\n",
       "      <th>1090166</th>\n",
       "      <td>1.0</td>\n",
       "      <td>0.0</td>\n",
       "      <td>1.0</td>\n",
       "      <td>0.000000</td>\n",
       "      <td>0.0</td>\n",
       "      <td>0.033333</td>\n",
       "    </tr>\n",
       "  </tbody>\n",
       "</table>\n",
       "<p>1090167 rows × 6 columns</p>\n",
       "</div>"
      ],
      "text/plain": [
       "           0    1    2         3    4         5\n",
       "0        0.0  1.0  0.3  0.043478  1.0  1.000000\n",
       "1        0.0  1.0  0.3  0.086957  1.0  1.000000\n",
       "2        0.0  1.0  0.3  0.130435  1.0  1.000000\n",
       "3        0.0  1.0  0.3  0.173913  1.0  1.000000\n",
       "4        0.0  1.0  0.3  0.217391  1.0  1.000000\n",
       "...      ...  ...  ...       ...  ...       ...\n",
       "1090162  1.0  0.0  1.0  0.869565  0.0  0.000000\n",
       "1090163  1.0  0.0  1.0  0.913043  0.0  0.000000\n",
       "1090164  1.0  0.0  1.0  0.956522  0.0  0.000000\n",
       "1090165  1.0  0.0  1.0  1.000000  0.0  0.000000\n",
       "1090166  1.0  0.0  1.0  0.000000  0.0  0.033333\n",
       "\n",
       "[1090167 rows x 6 columns]"
      ]
     },
     "execution_count": 39,
     "metadata": {},
     "output_type": "execute_result"
    }
   ],
   "source": [
    "from sklearn import preprocessing\n",
    "min_max_scaler = preprocessing.MinMaxScaler()\n",
    "normalized_arr = preprocessing.normalize(features)\n",
    "feature_scaled = min_max_scaler.fit_transform(features)\n",
    "normalized_features= pd.DataFrame(feature_scaled)\n",
    "normalized_features"
   ]
  },
  {
   "cell_type": "code",
   "execution_count": 40,
   "id": "7bbee5b9",
   "metadata": {},
   "outputs": [],
   "source": [
    "label=label.values.reshape(-1, 1)"
   ]
  },
  {
   "cell_type": "code",
   "execution_count": 60,
   "id": "58e9515a",
   "metadata": {},
   "outputs": [],
   "source": [
    "from sklearn import preprocessing\n",
    "normalized_arr = preprocessing.normalize(newcopy_1)\n",
    "label_scaled = min_max_scaler.fit_transform(newcopy_1)\n",
    "normalized_newcopy_1= pd.DataFrame(label_scaled)"
   ]
  },
  {
   "cell_type": "code",
   "execution_count": 62,
   "id": "92685669",
   "metadata": {},
   "outputs": [
    {
     "data": {
      "text/plain": [
       "(1090167, 7)"
      ]
     },
     "execution_count": 62,
     "metadata": {},
     "output_type": "execute_result"
    }
   ],
   "source": [
    "normalized_newcopy_1.shape"
   ]
  },
  {
   "cell_type": "code",
   "execution_count": null,
   "id": "16965285",
   "metadata": {},
   "outputs": [],
   "source": [
    "from sklearn import preprocessing\n",
    "normalized_arr = preprocessing.normalize(label)\n",
    "label_scaled = min_max_scaler.fit_transform(label)\n",
    "normalized_label= pd.DataFrame(label_scaled)"
   ]
  },
  {
   "cell_type": "code",
   "execution_count": 42,
   "id": "4770d593",
   "metadata": {},
   "outputs": [
    {
     "data": {
      "text/html": [
       "<div>\n",
       "<style scoped>\n",
       "    .dataframe tbody tr th:only-of-type {\n",
       "        vertical-align: middle;\n",
       "    }\n",
       "\n",
       "    .dataframe tbody tr th {\n",
       "        vertical-align: top;\n",
       "    }\n",
       "\n",
       "    .dataframe thead th {\n",
       "        text-align: right;\n",
       "    }\n",
       "</style>\n",
       "<table border=\"1\" class=\"dataframe\">\n",
       "  <thead>\n",
       "    <tr style=\"text-align: right;\">\n",
       "      <th></th>\n",
       "      <th>0</th>\n",
       "    </tr>\n",
       "  </thead>\n",
       "  <tbody>\n",
       "    <tr>\n",
       "      <th>0</th>\n",
       "      <td>0.217356</td>\n",
       "    </tr>\n",
       "    <tr>\n",
       "      <th>1</th>\n",
       "      <td>0.207470</td>\n",
       "    </tr>\n",
       "    <tr>\n",
       "      <th>2</th>\n",
       "      <td>0.202825</td>\n",
       "    </tr>\n",
       "    <tr>\n",
       "      <th>3</th>\n",
       "      <td>0.201858</td>\n",
       "    </tr>\n",
       "    <tr>\n",
       "      <th>4</th>\n",
       "      <td>0.204325</td>\n",
       "    </tr>\n",
       "    <tr>\n",
       "      <th>...</th>\n",
       "      <td>...</td>\n",
       "    </tr>\n",
       "    <tr>\n",
       "      <th>1090162</th>\n",
       "      <td>0.135480</td>\n",
       "    </tr>\n",
       "    <tr>\n",
       "      <th>1090163</th>\n",
       "      <td>0.135029</td>\n",
       "    </tr>\n",
       "    <tr>\n",
       "      <th>1090164</th>\n",
       "      <td>0.132852</td>\n",
       "    </tr>\n",
       "    <tr>\n",
       "      <th>1090165</th>\n",
       "      <td>0.128336</td>\n",
       "    </tr>\n",
       "    <tr>\n",
       "      <th>1090166</th>\n",
       "      <td>0.124030</td>\n",
       "    </tr>\n",
       "  </tbody>\n",
       "</table>\n",
       "<p>1090167 rows × 1 columns</p>\n",
       "</div>"
      ],
      "text/plain": [
       "                0\n",
       "0        0.217356\n",
       "1        0.207470\n",
       "2        0.202825\n",
       "3        0.201858\n",
       "4        0.204325\n",
       "...           ...\n",
       "1090162  0.135480\n",
       "1090163  0.135029\n",
       "1090164  0.132852\n",
       "1090165  0.128336\n",
       "1090166  0.124030\n",
       "\n",
       "[1090167 rows x 1 columns]"
      ]
     },
     "execution_count": 42,
     "metadata": {},
     "output_type": "execute_result"
    }
   ],
   "source": [
    "normalized_label"
   ]
  },
  {
   "cell_type": "code",
   "execution_count": 43,
   "id": "598eeacb",
   "metadata": {},
   "outputs": [],
   "source": [
    "from sklearn.model_selection import train_test_split\n",
    "X_train,X_test,Y_train,Y_test=train_test_split(normalized_features,normalized_label,test_size=0.2)"
   ]
  },
  {
   "cell_type": "code",
   "execution_count": 44,
   "id": "786f768c",
   "metadata": {},
   "outputs": [],
   "source": [
    "from sklearn.ensemble import RandomForestRegressor\n",
    "model1=RandomForestRegressor(n_jobs= -1)"
   ]
  },
  {
   "cell_type": "code",
   "execution_count": 45,
   "id": "67f1a145",
   "metadata": {},
   "outputs": [
    {
     "data": {
      "text/plain": [
       "RandomForestRegressor(n_jobs=-1)"
      ]
     },
     "execution_count": 45,
     "metadata": {},
     "output_type": "execute_result"
    }
   ],
   "source": [
    "Y_train=Y_train.values.ravel()\n",
    "model1.fit(X_train,Y_train)"
   ]
  },
  {
   "cell_type": "code",
   "execution_count": 46,
   "id": "3717fdb2",
   "metadata": {},
   "outputs": [
    {
     "data": {
      "text/plain": [
       "0.9956941523683078"
      ]
     },
     "execution_count": 46,
     "metadata": {},
     "output_type": "execute_result"
    }
   ],
   "source": [
    "Y_test=Y_test.values.ravel()\n",
    "model1.score(X_test,Y_test)"
   ]
  },
  {
   "cell_type": "code",
   "execution_count": 47,
   "id": "8a21ab40",
   "metadata": {},
   "outputs": [],
   "source": [
    "from sklearn.linear_model  import LinearRegression\n",
    "model2=LinearRegression(n_jobs= -1)"
   ]
  },
  {
   "cell_type": "code",
   "execution_count": 48,
   "id": "1c1f5b47",
   "metadata": {},
   "outputs": [
    {
     "data": {
      "text/plain": [
       "LinearRegression(n_jobs=-1)"
      ]
     },
     "execution_count": 48,
     "metadata": {},
     "output_type": "execute_result"
    }
   ],
   "source": [
    "model2.fit(X_train,Y_train)"
   ]
  },
  {
   "cell_type": "code",
   "execution_count": 49,
   "id": "b35c3702",
   "metadata": {},
   "outputs": [
    {
     "data": {
      "text/plain": [
       "0.1542512838082708"
      ]
     },
     "execution_count": 49,
     "metadata": {},
     "output_type": "execute_result"
    }
   ],
   "source": [
    "model2.score(X_test,Y_test)"
   ]
  },
  {
   "cell_type": "markdown",
   "id": "3bd1eea1",
   "metadata": {},
   "source": [
    "from sklearn.model_selection import cross_val_score\n",
    "cross_val_score(model1,X_train,Y_train,cv=8,scoring=None)"
   ]
  },
  {
   "cell_type": "markdown",
   "id": "606e0dd1",
   "metadata": {},
   "source": [
    "cross_val_score(model2,X_train,Y_train,cv=14,scoring=None)"
   ]
  },
  {
   "cell_type": "code",
   "execution_count": 50,
   "id": "95b60df6",
   "metadata": {},
   "outputs": [],
   "source": [
    "import tensorflow as tf"
   ]
  },
  {
   "cell_type": "code",
   "execution_count": 51,
   "id": "633f4d14",
   "metadata": {},
   "outputs": [],
   "source": [
    "model3 = tf.keras.models.Sequential([\n",
    "    tf.keras.layers.Conv1D(filters=64, kernel_size=5,\n",
    "                          strides=1, padding='causal',\n",
    "                          activation='relu',\n",
    "                          input_shape=[None, 1]),\n",
    "    tf.keras.layers.LSTM(64, return_sequences=True),\n",
    "    tf.keras.layers.LSTM(128, return_sequences=True),\n",
    "    tf.keras.layers.Dense(32, activation=\"relu\"),\n",
    "    tf.keras.layers.Dense(16, activation=\"relu\"),\n",
    "    tf.keras.layers.Dense(1),\n",
    "    tf.keras.layers.Lambda(lambda x: x * 400)\n",
    "])"
   ]
  },
  {
   "cell_type": "code",
   "execution_count": 52,
   "id": "34f4cd36",
   "metadata": {},
   "outputs": [],
   "source": [
    "model3.compile(loss='mse', optimizer='adam')\n"
   ]
  },
  {
   "cell_type": "code",
   "execution_count": 54,
   "id": "cd9e42dd",
   "metadata": {},
   "outputs": [
    {
     "name": "stdout",
     "output_type": "stream",
     "text": [
      "Epoch 1/10\n",
      "27255/27255 [==============================] - 390s 14ms/step - loss: 0.0330\n",
      "Epoch 2/10\n",
      "27255/27255 [==============================] - 627s 23ms/step - loss: 0.0321\n",
      "Epoch 3/10\n",
      "27255/27255 [==============================] - 729s 27ms/step - loss: 0.0322\n",
      "Epoch 4/10\n",
      "27255/27255 [==============================] - 860s 32ms/step - loss: 0.0323\n",
      "Epoch 5/10\n",
      "27255/27255 [==============================] - 847s 31ms/step - loss: 0.0321\n",
      "Epoch 6/10\n",
      "27255/27255 [==============================] - 871s 32ms/step - loss: 0.0321\n",
      "Epoch 7/10\n",
      "27255/27255 [==============================] - 893s 33ms/step - loss: 0.0323\n",
      "Epoch 8/10\n",
      "27255/27255 [==============================] - 927s 34ms/step - loss: 0.0321\n",
      "Epoch 9/10\n",
      "27255/27255 [==============================] - 960s 35ms/step - loss: 0.0322\n",
      "Epoch 10/10\n",
      "27255/27255 [==============================] - 925s 34ms/step - loss: 0.0322\n"
     ]
    },
    {
     "data": {
      "text/plain": [
       "<keras.callbacks.History at 0x1aeb0890f70>"
      ]
     },
     "execution_count": 54,
     "metadata": {},
     "output_type": "execute_result"
    }
   ],
   "source": [
    "model3.fit(X_train,Y_train,epochs =10)"
   ]
  },
  {
   "cell_type": "code",
   "execution_count": 66,
   "id": "7656f1a9",
   "metadata": {},
   "outputs": [],
   "source": [
    "normalized_newcopy_1=normalized_newcopy_1.iloc[:, 1:2].values"
   ]
  },
  {
   "cell_type": "code",
   "execution_count": 55,
   "id": "e2c9ed76",
   "metadata": {},
   "outputs": [
    {
     "name": "stdout",
     "output_type": "stream",
     "text": [
      "6814/6814 [==============================] - 131s 19ms/step\n"
     ]
    }
   ],
   "source": [
    "predicted= model3.predict(X_test)"
   ]
  },
  {
   "cell_type": "code",
   "execution_count": 65,
   "id": "847ba59d",
   "metadata": {},
   "outputs": [
    {
     "data": {
      "text/plain": [
       "array([[[0.0770981],\n",
       "        [0.0770981],\n",
       "        [0.0770981],\n",
       "        [0.0770981],\n",
       "        [0.0770981],\n",
       "        [0.0770981]],\n",
       "\n",
       "       [[0.0770981],\n",
       "        [0.0770981],\n",
       "        [0.0770981],\n",
       "        [0.0770981],\n",
       "        [0.0770981],\n",
       "        [0.0770981]],\n",
       "\n",
       "       [[0.0770981],\n",
       "        [0.0770981],\n",
       "        [0.0770981],\n",
       "        [0.0770981],\n",
       "        [0.0770981],\n",
       "        [0.0770981]],\n",
       "\n",
       "       ...,\n",
       "\n",
       "       [[0.0770981],\n",
       "        [0.0770981],\n",
       "        [0.0770981],\n",
       "        [0.0770981],\n",
       "        [0.0770981],\n",
       "        [0.0770981]],\n",
       "\n",
       "       [[0.0770981],\n",
       "        [0.0770981],\n",
       "        [0.0770981],\n",
       "        [0.0770981],\n",
       "        [0.0770981],\n",
       "        [0.0770981]],\n",
       "\n",
       "       [[0.0770981],\n",
       "        [0.0770981],\n",
       "        [0.0770981],\n",
       "        [0.0770981],\n",
       "        [0.0770981],\n",
       "        [0.0770981]]], dtype=float32)"
      ]
     },
     "execution_count": 65,
     "metadata": {},
     "output_type": "execute_result"
    }
   ],
   "source": [
    "predicted"
   ]
  },
  {
   "cell_type": "code",
   "execution_count": 70,
   "id": "4d0f70b8",
   "metadata": {},
   "outputs": [
    {
     "ename": "ValueError",
     "evalue": "x and y can be no greater than 2D, but have shapes (218034,) and (218034, 6, 1)",
     "output_type": "error",
     "traceback": [
      "\u001b[1;31m---------------------------------------------------------------------------\u001b[0m",
      "\u001b[1;31mValueError\u001b[0m                                Traceback (most recent call last)",
      "Input \u001b[1;32mIn [70]\u001b[0m, in \u001b[0;36m<cell line: 2>\u001b[1;34m()\u001b[0m\n\u001b[0;32m      1\u001b[0m plt\u001b[38;5;241m.\u001b[39mplot(newcopy_1, color \u001b[38;5;241m=\u001b[39m \u001b[38;5;124m'\u001b[39m\u001b[38;5;124mred\u001b[39m\u001b[38;5;124m'\u001b[39m, label \u001b[38;5;241m=\u001b[39m \u001b[38;5;124m'\u001b[39m\u001b[38;5;124mReal \u001b[39m\u001b[38;5;124m'\u001b[39m)\n\u001b[1;32m----> 2\u001b[0m \u001b[43mplt\u001b[49m\u001b[38;5;241;43m.\u001b[39;49m\u001b[43mplot\u001b[49m\u001b[43m(\u001b[49m\u001b[43mpredicted\u001b[49m\u001b[43m,\u001b[49m\u001b[43m \u001b[49m\u001b[43mcolor\u001b[49m\u001b[43m \u001b[49m\u001b[38;5;241;43m=\u001b[39;49m\u001b[43m \u001b[49m\u001b[38;5;124;43m'\u001b[39;49m\u001b[38;5;124;43mblue\u001b[39;49m\u001b[38;5;124;43m'\u001b[39;49m\u001b[43m,\u001b[49m\u001b[43m \u001b[49m\u001b[43mlabel\u001b[49m\u001b[43m \u001b[49m\u001b[38;5;241;43m=\u001b[39;49m\u001b[43m \u001b[49m\u001b[38;5;124;43m'\u001b[39;49m\u001b[38;5;124;43mPredicted \u001b[39;49m\u001b[38;5;124;43m'\u001b[39;49m\u001b[43m)\u001b[49m\n\u001b[0;32m      3\u001b[0m plt\u001b[38;5;241m.\u001b[39mtitle(\u001b[38;5;124m'\u001b[39m\u001b[38;5;124menergy\u001b[39m\u001b[38;5;124m'\u001b[39m)\n\u001b[0;32m      4\u001b[0m plt\u001b[38;5;241m.\u001b[39mxlabel(\u001b[38;5;124m'\u001b[39m\u001b[38;5;124mTime\u001b[39m\u001b[38;5;124m'\u001b[39m)\n",
      "File \u001b[1;32m~\\anaconda3\\lib\\site-packages\\matplotlib\\pyplot.py:2757\u001b[0m, in \u001b[0;36mplot\u001b[1;34m(scalex, scaley, data, *args, **kwargs)\u001b[0m\n\u001b[0;32m   2755\u001b[0m \u001b[38;5;129m@_copy_docstring_and_deprecators\u001b[39m(Axes\u001b[38;5;241m.\u001b[39mplot)\n\u001b[0;32m   2756\u001b[0m \u001b[38;5;28;01mdef\u001b[39;00m \u001b[38;5;21mplot\u001b[39m(\u001b[38;5;241m*\u001b[39margs, scalex\u001b[38;5;241m=\u001b[39m\u001b[38;5;28;01mTrue\u001b[39;00m, scaley\u001b[38;5;241m=\u001b[39m\u001b[38;5;28;01mTrue\u001b[39;00m, data\u001b[38;5;241m=\u001b[39m\u001b[38;5;28;01mNone\u001b[39;00m, \u001b[38;5;241m*\u001b[39m\u001b[38;5;241m*\u001b[39mkwargs):\n\u001b[1;32m-> 2757\u001b[0m     \u001b[38;5;28;01mreturn\u001b[39;00m gca()\u001b[38;5;241m.\u001b[39mplot(\n\u001b[0;32m   2758\u001b[0m         \u001b[38;5;241m*\u001b[39margs, scalex\u001b[38;5;241m=\u001b[39mscalex, scaley\u001b[38;5;241m=\u001b[39mscaley,\n\u001b[0;32m   2759\u001b[0m         \u001b[38;5;241m*\u001b[39m\u001b[38;5;241m*\u001b[39m({\u001b[38;5;124m\"\u001b[39m\u001b[38;5;124mdata\u001b[39m\u001b[38;5;124m\"\u001b[39m: data} \u001b[38;5;28;01mif\u001b[39;00m data \u001b[38;5;129;01mis\u001b[39;00m \u001b[38;5;129;01mnot\u001b[39;00m \u001b[38;5;28;01mNone\u001b[39;00m \u001b[38;5;28;01melse\u001b[39;00m {}), \u001b[38;5;241m*\u001b[39m\u001b[38;5;241m*\u001b[39mkwargs)\n",
      "File \u001b[1;32m~\\anaconda3\\lib\\site-packages\\matplotlib\\axes\\_axes.py:1632\u001b[0m, in \u001b[0;36mAxes.plot\u001b[1;34m(self, scalex, scaley, data, *args, **kwargs)\u001b[0m\n\u001b[0;32m   1390\u001b[0m \u001b[38;5;124;03m\"\"\"\u001b[39;00m\n\u001b[0;32m   1391\u001b[0m \u001b[38;5;124;03mPlot y versus x as lines and/or markers.\u001b[39;00m\n\u001b[0;32m   1392\u001b[0m \n\u001b[1;32m   (...)\u001b[0m\n\u001b[0;32m   1629\u001b[0m \u001b[38;5;124;03m(``'green'``) or hex strings (``'#008000'``).\u001b[39;00m\n\u001b[0;32m   1630\u001b[0m \u001b[38;5;124;03m\"\"\"\u001b[39;00m\n\u001b[0;32m   1631\u001b[0m kwargs \u001b[38;5;241m=\u001b[39m cbook\u001b[38;5;241m.\u001b[39mnormalize_kwargs(kwargs, mlines\u001b[38;5;241m.\u001b[39mLine2D)\n\u001b[1;32m-> 1632\u001b[0m lines \u001b[38;5;241m=\u001b[39m [\u001b[38;5;241m*\u001b[39m\u001b[38;5;28mself\u001b[39m\u001b[38;5;241m.\u001b[39m_get_lines(\u001b[38;5;241m*\u001b[39margs, data\u001b[38;5;241m=\u001b[39mdata, \u001b[38;5;241m*\u001b[39m\u001b[38;5;241m*\u001b[39mkwargs)]\n\u001b[0;32m   1633\u001b[0m \u001b[38;5;28;01mfor\u001b[39;00m line \u001b[38;5;129;01min\u001b[39;00m lines:\n\u001b[0;32m   1634\u001b[0m     \u001b[38;5;28mself\u001b[39m\u001b[38;5;241m.\u001b[39madd_line(line)\n",
      "File \u001b[1;32m~\\anaconda3\\lib\\site-packages\\matplotlib\\axes\\_base.py:312\u001b[0m, in \u001b[0;36m_process_plot_var_args.__call__\u001b[1;34m(self, data, *args, **kwargs)\u001b[0m\n\u001b[0;32m    310\u001b[0m     this \u001b[38;5;241m+\u001b[39m\u001b[38;5;241m=\u001b[39m args[\u001b[38;5;241m0\u001b[39m],\n\u001b[0;32m    311\u001b[0m     args \u001b[38;5;241m=\u001b[39m args[\u001b[38;5;241m1\u001b[39m:]\n\u001b[1;32m--> 312\u001b[0m \u001b[38;5;28;01myield from\u001b[39;00m \u001b[38;5;28;43mself\u001b[39;49m\u001b[38;5;241;43m.\u001b[39;49m\u001b[43m_plot_args\u001b[49m\u001b[43m(\u001b[49m\u001b[43mthis\u001b[49m\u001b[43m,\u001b[49m\u001b[43m \u001b[49m\u001b[43mkwargs\u001b[49m\u001b[43m)\u001b[49m\n",
      "File \u001b[1;32m~\\anaconda3\\lib\\site-packages\\matplotlib\\axes\\_base.py:501\u001b[0m, in \u001b[0;36m_process_plot_var_args._plot_args\u001b[1;34m(self, tup, kwargs, return_kwargs)\u001b[0m\n\u001b[0;32m    498\u001b[0m     \u001b[38;5;28;01mraise\u001b[39;00m \u001b[38;5;167;01mValueError\u001b[39;00m(\u001b[38;5;124mf\u001b[39m\u001b[38;5;124m\"\u001b[39m\u001b[38;5;124mx and y must have same first dimension, but \u001b[39m\u001b[38;5;124m\"\u001b[39m\n\u001b[0;32m    499\u001b[0m                      \u001b[38;5;124mf\u001b[39m\u001b[38;5;124m\"\u001b[39m\u001b[38;5;124mhave shapes \u001b[39m\u001b[38;5;132;01m{\u001b[39;00mx\u001b[38;5;241m.\u001b[39mshape\u001b[38;5;132;01m}\u001b[39;00m\u001b[38;5;124m and \u001b[39m\u001b[38;5;132;01m{\u001b[39;00my\u001b[38;5;241m.\u001b[39mshape\u001b[38;5;132;01m}\u001b[39;00m\u001b[38;5;124m\"\u001b[39m)\n\u001b[0;32m    500\u001b[0m \u001b[38;5;28;01mif\u001b[39;00m x\u001b[38;5;241m.\u001b[39mndim \u001b[38;5;241m>\u001b[39m \u001b[38;5;241m2\u001b[39m \u001b[38;5;129;01mor\u001b[39;00m y\u001b[38;5;241m.\u001b[39mndim \u001b[38;5;241m>\u001b[39m \u001b[38;5;241m2\u001b[39m:\n\u001b[1;32m--> 501\u001b[0m     \u001b[38;5;28;01mraise\u001b[39;00m \u001b[38;5;167;01mValueError\u001b[39;00m(\u001b[38;5;124mf\u001b[39m\u001b[38;5;124m\"\u001b[39m\u001b[38;5;124mx and y can be no greater than 2D, but have \u001b[39m\u001b[38;5;124m\"\u001b[39m\n\u001b[0;32m    502\u001b[0m                      \u001b[38;5;124mf\u001b[39m\u001b[38;5;124m\"\u001b[39m\u001b[38;5;124mshapes \u001b[39m\u001b[38;5;132;01m{\u001b[39;00mx\u001b[38;5;241m.\u001b[39mshape\u001b[38;5;132;01m}\u001b[39;00m\u001b[38;5;124m and \u001b[39m\u001b[38;5;132;01m{\u001b[39;00my\u001b[38;5;241m.\u001b[39mshape\u001b[38;5;132;01m}\u001b[39;00m\u001b[38;5;124m\"\u001b[39m)\n\u001b[0;32m    503\u001b[0m \u001b[38;5;28;01mif\u001b[39;00m x\u001b[38;5;241m.\u001b[39mndim \u001b[38;5;241m==\u001b[39m \u001b[38;5;241m1\u001b[39m:\n\u001b[0;32m    504\u001b[0m     x \u001b[38;5;241m=\u001b[39m x[:, np\u001b[38;5;241m.\u001b[39mnewaxis]\n",
      "\u001b[1;31mValueError\u001b[0m: x and y can be no greater than 2D, but have shapes (218034,) and (218034, 6, 1)"
     ]
    },
    {
     "data": {
      "image/png": "[encoded data removed]",
      "text/plain": [
       "<Figure size 432x288 with 1 Axes>"
      ]
     },
     "metadata": {
      "needs_background": "light"
     },
     "output_type": "display_data"
    }
   ],
   "source": [
    "plt.plot(newcopy_1, color = 'red', label = 'Real ')\n",
    "plt.plot(predicted, color = 'blue', label = 'Predicted ')\n",
    "plt.title('energy')\n",
    "plt.xlabel('Time')\n",
    "plt.ylabel('energy ')\n",
    "plt.legend()"
   ]
  },
  {
   "cell_type": "code",
   "execution_count": null,
   "id": "2ff9ebe5",
   "metadata": {},
   "outputs": [],
   "source": []
  }
 ],
 "metadata": {
  "kernelspec": {
   "display_name": "Python 3 (ipykernel)",
   "language": "python",
   "name": "python3"
  },
  "language_info": {
   "codemirror_mode": {
    "name": "ipython",
    "version": 3
   },
   "file_extension": ".py",
   "mimetype": "text/x-python",
   "name": "python",
   "nbconvert_exporter": "python",
   "pygments_lexer": "ipython3",
   "version": "3.9.12"
  }
 },
 "nbformat": 4,
 "nbformat_minor": 5
}
